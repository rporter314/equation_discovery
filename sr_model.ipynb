{
 "cells": [
  {
   "cell_type": "markdown",
   "id": "ff115580-47be-4f5e-bda7-73498d86a4fa",
   "metadata": {
    "tags": []
   },
   "source": [
    "# Installation process"
   ]
  },
  {
   "cell_type": "code",
   "execution_count": 1,
   "id": "c1dd23ac-bcc2-4538-b384-c381a2c14e90",
   "metadata": {},
   "outputs": [
    {
     "name": "stdout",
     "output_type": "stream",
     "text": [
      "Requirement already satisfied: scikit-learn in /srv/conda/envs/notebook/lib/python3.10/site-packages (1.2.2)\n",
      "Collecting scikit-learn\n",
      "  Using cached scikit_learn-1.3.0-cp310-cp310-manylinux_2_17_x86_64.manylinux2014_x86_64.whl (10.8 MB)\n",
      "Requirement already satisfied: numpy>=1.17.3 in /srv/conda/envs/notebook/lib/python3.10/site-packages (from scikit-learn) (1.23.5)\n",
      "Requirement already satisfied: scipy>=1.5.0 in /srv/conda/envs/notebook/lib/python3.10/site-packages (from scikit-learn) (1.10.1)\n",
      "Requirement already satisfied: joblib>=1.1.1 in /srv/conda/envs/notebook/lib/python3.10/site-packages (from scikit-learn) (1.2.0)\n",
      "Requirement already satisfied: threadpoolctl>=2.0.0 in /srv/conda/envs/notebook/lib/python3.10/site-packages (from scikit-learn) (3.1.0)\n",
      "Installing collected packages: scikit-learn\n",
      "  Attempting uninstall: scikit-learn\n",
      "    Found existing installation: scikit-learn 1.2.2\n",
      "    Uninstalling scikit-learn-1.2.2:\n",
      "      Successfully uninstalled scikit-learn-1.2.2\n",
      "Successfully installed scikit-learn-1.3.0\n"
     ]
    }
   ],
   "source": [
    "! pip install -U scikit-learn"
   ]
  },
  {
   "cell_type": "code",
   "execution_count": 2,
   "id": "7091de0c-b13c-4ca1-b246-44a10e099a97",
   "metadata": {},
   "outputs": [
    {
     "name": "stdout",
     "output_type": "stream",
     "text": [
      "Collecting gplearn\n",
      "  Using cached gplearn-0.4.2-py3-none-any.whl (25 kB)\n",
      "Requirement already satisfied: scikit-learn>=1.0.2 in /srv/conda/envs/notebook/lib/python3.10/site-packages (from gplearn) (1.3.0)\n",
      "Requirement already satisfied: joblib>=1.0.0 in /srv/conda/envs/notebook/lib/python3.10/site-packages (from gplearn) (1.2.0)\n",
      "Requirement already satisfied: numpy>=1.17.3 in /srv/conda/envs/notebook/lib/python3.10/site-packages (from scikit-learn>=1.0.2->gplearn) (1.23.5)\n",
      "Requirement already satisfied: scipy>=1.5.0 in /srv/conda/envs/notebook/lib/python3.10/site-packages (from scikit-learn>=1.0.2->gplearn) (1.10.1)\n",
      "Requirement already satisfied: threadpoolctl>=2.0.0 in /srv/conda/envs/notebook/lib/python3.10/site-packages (from scikit-learn>=1.0.2->gplearn) (3.1.0)\n",
      "Installing collected packages: gplearn\n",
      "Successfully installed gplearn-0.4.2\n"
     ]
    }
   ],
   "source": [
    "! pip install gplearn"
   ]
  },
  {
   "cell_type": "code",
   "execution_count": 3,
   "id": "d09de920-cf66-4835-8997-8cf2df662e89",
   "metadata": {},
   "outputs": [],
   "source": [
    "#! git clone https://github.com/trevorstephens/gplearn.git"
   ]
  },
  {
   "cell_type": "code",
   "execution_count": 4,
   "id": "85b01a13-81bb-4983-a381-6e367a49800d",
   "metadata": {
    "tags": []
   },
   "outputs": [
    {
     "data": {
      "text/plain": [
       "'/home/jovyan/equation_discovery'"
      ]
     },
     "execution_count": 4,
     "metadata": {},
     "output_type": "execute_result"
    }
   ],
   "source": [
    "pwd"
   ]
  },
  {
   "cell_type": "code",
   "execution_count": 5,
   "id": "cb04503c-7c3a-442d-98ee-9b1a3882e3bb",
   "metadata": {
    "tags": []
   },
   "outputs": [
    {
     "name": "stdout",
     "output_type": "stream",
     "text": [
      "running install\n",
      "/srv/conda/envs/notebook/lib/python3.10/site-packages/setuptools/_distutils/cmd.py:66: SetuptoolsDeprecationWarning: setup.py install is deprecated.\n",
      "!!\n",
      "\n",
      "        ********************************************************************************\n",
      "        Please avoid running ``setup.py`` directly.\n",
      "        Instead, use pypa/build, pypa/installer, pypa/build or\n",
      "        other standards-based tools.\n",
      "\n",
      "        See https://blog.ganssle.io/articles/2021/10/setup-py-deprecated.html for details.\n",
      "        ********************************************************************************\n",
      "\n",
      "!!\n",
      "  self.initialize_options()\n",
      "/srv/conda/envs/notebook/lib/python3.10/site-packages/setuptools/_distutils/cmd.py:66: EasyInstallDeprecationWarning: easy_install command is deprecated.\n",
      "!!\n",
      "\n",
      "        ********************************************************************************\n",
      "        Please avoid running ``setup.py`` and ``easy_install``.\n",
      "        Instead, use pypa/build, pypa/installer, pypa/build or\n",
      "        other standards-based tools.\n",
      "\n",
      "        See https://github.com/pypa/setuptools/issues/917 for details.\n",
      "        ********************************************************************************\n",
      "\n",
      "!!\n",
      "  self.initialize_options()\n",
      "running bdist_egg\n",
      "running egg_info\n",
      "writing gplearn.egg-info/PKG-INFO\n",
      "writing dependency_links to gplearn.egg-info/dependency_links.txt\n",
      "writing requirements to gplearn.egg-info/requires.txt\n",
      "writing top-level names to gplearn.egg-info/top_level.txt\n",
      "reading manifest file 'gplearn.egg-info/SOURCES.txt'\n",
      "writing manifest file 'gplearn.egg-info/SOURCES.txt'\n",
      "installing library code to build/bdist.linux-x86_64/egg\n",
      "running install_lib\n",
      "warning: install_lib: 'build/lib' does not exist -- no Python modules to install\n",
      "\n",
      "creating build/bdist.linux-x86_64/egg\n",
      "creating build/bdist.linux-x86_64/egg/EGG-INFO\n",
      "copying gplearn.egg-info/PKG-INFO -> build/bdist.linux-x86_64/egg/EGG-INFO\n",
      "copying gplearn.egg-info/SOURCES.txt -> build/bdist.linux-x86_64/egg/EGG-INFO\n",
      "copying gplearn.egg-info/dependency_links.txt -> build/bdist.linux-x86_64/egg/EGG-INFO\n",
      "copying gplearn.egg-info/not-zip-safe -> build/bdist.linux-x86_64/egg/EGG-INFO\n",
      "copying gplearn.egg-info/requires.txt -> build/bdist.linux-x86_64/egg/EGG-INFO\n",
      "copying gplearn.egg-info/top_level.txt -> build/bdist.linux-x86_64/egg/EGG-INFO\n",
      "creating 'dist/gplearn-0.5.dev0-py3.10.egg' and adding 'build/bdist.linux-x86_64/egg' to it\n",
      "removing 'build/bdist.linux-x86_64/egg' (and everything under it)\n",
      "Processing gplearn-0.5.dev0-py3.10.egg\n",
      "creating /srv/conda/envs/notebook/lib/python3.10/site-packages/gplearn-0.5.dev0-py3.10.egg\n",
      "Extracting gplearn-0.5.dev0-py3.10.egg to /srv/conda/envs/notebook/lib/python3.10/site-packages\n",
      "Adding gplearn 0.5.dev0 to easy-install.pth file\n",
      "\n",
      "Installed /srv/conda/envs/notebook/lib/python3.10/site-packages/gplearn-0.5.dev0-py3.10.egg\n",
      "Processing dependencies for gplearn==0.5.dev0\n",
      "Searching for joblib==1.2.0\n",
      "Best match: joblib 1.2.0\n",
      "Adding joblib 1.2.0 to easy-install.pth file\n",
      "\n",
      "Using /srv/conda/envs/notebook/lib/python3.10/site-packages\n",
      "Searching for scikit-learn==1.3.0\n",
      "Best match: scikit-learn 1.3.0\n",
      "Adding scikit-learn 1.3.0 to easy-install.pth file\n",
      "\n",
      "Using /srv/conda/envs/notebook/lib/python3.10/site-packages\n",
      "Searching for threadpoolctl==3.1.0\n",
      "Best match: threadpoolctl 3.1.0\n",
      "Adding threadpoolctl 3.1.0 to easy-install.pth file\n",
      "\n",
      "Using /srv/conda/envs/notebook/lib/python3.10/site-packages\n",
      "Searching for scipy==1.10.1\n",
      "Best match: scipy 1.10.1\n",
      "Adding scipy 1.10.1 to easy-install.pth file\n",
      "\n",
      "Using /srv/conda/envs/notebook/lib/python3.10/site-packages\n",
      "Searching for numpy==1.23.5\n",
      "Best match: numpy 1.23.5\n",
      "Adding numpy 1.23.5 to easy-install.pth file\n",
      "Installing f2py script to /srv/conda/envs/notebook/bin\n",
      "Installing f2py3 script to /srv/conda/envs/notebook/bin\n",
      "Installing f2py3.10 script to /srv/conda/envs/notebook/bin\n",
      "\n",
      "Using /srv/conda/envs/notebook/lib/python3.10/site-packages\n",
      "Finished processing dependencies for gplearn==0.5.dev0\n"
     ]
    }
   ],
   "source": [
    "!python gplearn/setup.py install"
   ]
  },
  {
   "cell_type": "markdown",
   "id": "e283bc37-25e2-45c1-9c08-d72e3f657800",
   "metadata": {},
   "source": [
    "## Importing packages and data"
   ]
  },
  {
   "cell_type": "code",
   "execution_count": 6,
   "id": "3f12c332-e3f8-4927-a5d5-b39d3d0ad0e9",
   "metadata": {
    "tags": []
   },
   "outputs": [],
   "source": [
    "import os\n",
    "import shutil\n",
    "import copy\n",
    "import numpy as np\n",
    "import pandas as pd\n",
    "from sklearn.metrics import mean_absolute_error as mae\n",
    "import gplearn\n",
    "%matplotlib inline\n",
    "from gplearn.genetic import SymbolicRegressor\n",
    "from gplearn.functions import make_function\n",
    "from sklearn.utils.random import check_random_state\n",
    "from mpl_toolkits.mplot3d import Axes3D\n",
    "import matplotlib.pyplot as plt\n",
    "import numpy as np\n",
    "import graphviz\n",
    "#from sklearn.model_selection import KFold"
   ]
  },
  {
   "cell_type": "code",
   "execution_count": 7,
   "id": "643ea76e-7b43-45cf-8592-4167b2f056c7",
   "metadata": {
    "tags": []
   },
   "outputs": [
    {
     "data": {
      "text/plain": [
       "'/home/jovyan/equation_discovery'"
      ]
     },
     "execution_count": 7,
     "metadata": {},
     "output_type": "execute_result"
    }
   ],
   "source": [
    "pwd"
   ]
  },
  {
   "cell_type": "code",
   "execution_count": 8,
   "id": "14c40214-7996-4d13-9e17-2f7476f69801",
   "metadata": {},
   "outputs": [],
   "source": [
    "#imported both normalized data and non-normalized\n",
    "dqdz = np.load('./variables/dqdz.npy')\n",
    "wq = np.load('./variables/wq.npy')\n",
    "dqdz_stand = np.load('./variables/dqdz_stand.npy')\n",
    "wq_stand = np.load('./variables/wq_stand.npy')"
   ]
  },
  {
   "cell_type": "code",
   "execution_count": 9,
   "id": "0d427856-745e-4b2d-a2cd-4d278fc3e67e",
   "metadata": {},
   "outputs": [
    {
     "data": {
      "text/plain": [
       "((47, 2232, 1), (47, 2232, 1), (2232, 47, 1), (2232, 47, 1))"
      ]
     },
     "execution_count": 9,
     "metadata": {},
     "output_type": "execute_result"
    }
   ],
   "source": [
    "dqdz.shape, wq.shape, dqdz_stand.shape, wq_stand.shape"
   ]
  },
  {
   "cell_type": "markdown",
   "id": "c7a1b13a-82da-4090-a41e-466da0102a34",
   "metadata": {
    "tags": []
   },
   "source": [
    "# Data preprocessing"
   ]
  },
  {
   "cell_type": "code",
   "execution_count": 10,
   "id": "bf8a625d-8528-4c16-9729-c4a62b36f9a9",
   "metadata": {},
   "outputs": [
    {
     "data": {
      "text/plain": [
       "((47, 2232), (47, 2232), (2232, 47), (2232, 47))"
      ]
     },
     "execution_count": 10,
     "metadata": {},
     "output_type": "execute_result"
    }
   ],
   "source": [
    "#take out column dimension\n",
    "x = np.squeeze(dqdz)\n",
    "y = np.squeeze(wq)\n",
    "\n",
    "x_norm = np.squeeze(dqdz_stand)\n",
    "y_norm = np.squeeze(wq_stand)\n",
    "x.shape, y.shape, x_norm.shape, y_norm.shape"
   ]
  },
  {
   "cell_type": "code",
   "execution_count": 11,
   "id": "1813c3d3-f97f-489e-84e8-c7e516e5a636",
   "metadata": {},
   "outputs": [],
   "source": [
    "#splitting data into training and test data -- test size is 0.33% of OG data\n",
    "from sklearn.model_selection import train_test_split\n",
    "X_train, X_test, y_train, y_test = train_test_split(x_norm, y_norm, test_size=0.33, random_state=42)"
   ]
  },
  {
   "cell_type": "code",
   "execution_count": 12,
   "id": "a0962d26-26f5-42bd-aa4c-c75f3c02f554",
   "metadata": {},
   "outputs": [
    {
     "data": {
      "text/plain": [
       "((1495, 47), (737, 47), (1495, 47), (737, 47))"
      ]
     },
     "execution_count": 12,
     "metadata": {},
     "output_type": "execute_result"
    }
   ],
   "source": [
    "#checking their shapes\n",
    "X_train.shape, X_test.shape, y_train.shape, y_test.shape"
   ]
  },
  {
   "cell_type": "code",
   "execution_count": 13,
   "id": "338d2b60-6b49-4479-afc5-40f7f311f025",
   "metadata": {
    "tags": []
   },
   "outputs": [
    {
     "data": {
      "text/plain": [
       "((1495, 47), (8970,))"
      ]
     },
     "execution_count": 13,
     "metadata": {},
     "output_type": "execute_result"
    }
   ],
   "source": [
    "#checking shapes of input\n",
    "X_train.shape,y_train[:,40:46].ravel().shape"
   ]
  },
  {
   "cell_type": "code",
   "execution_count": 14,
   "id": "7bba8720-38d2-4eea-8022-43eaa03b7ed4",
   "metadata": {
    "tags": []
   },
   "outputs": [
    {
     "data": {
      "text/plain": [
       "(1495, 1)"
      ]
     },
     "execution_count": 14,
     "metadata": {},
     "output_type": "execute_result"
    }
   ],
   "source": [
    "#checking shapes\n",
    "X_train[:,46].reshape(-1,1).shape"
   ]
  },
  {
   "cell_type": "code",
   "execution_count": 15,
   "id": "b1bb37b6-c6a4-4f00-af04-6ff488c36cab",
   "metadata": {
    "tags": []
   },
   "outputs": [
    {
     "data": {
      "text/plain": [
       "array([-0.51798479, -0.65443672,  0.0575451 , ...,  1.22852372,\n",
       "       -0.53956698, -1.36374291])"
      ]
     },
     "execution_count": 15,
     "metadata": {},
     "output_type": "execute_result"
    }
   ],
   "source": [
    "#.ravel() takes the column away and just makes it a 1d -like array (look at shape before and after)\n",
    "y_train[:,46].ravel()"
   ]
  },
  {
   "cell_type": "markdown",
   "id": "fbe029a4-caef-4675-b0c0-a138875389e9",
   "metadata": {},
   "source": [
    "# Training the model for a singular layer"
   ]
  },
  {
   "cell_type": "code",
   "execution_count": 38,
   "id": "c2c4ecfb-f0cb-4cd4-9850-fc0e8f71935b",
   "metadata": {
    "tags": []
   },
   "outputs": [],
   "source": [
    "model = SymbolicRegressor(function_set = ('add','sub','mul','log','inv'),generations=45, \n",
    "                          tournament_size=20, random_state=42,stopping_criteria=0.01,verbose = 1,\n",
    "                          max_samples=0.9, metric = 'mean absolute error'\n",
    "                            )\n",
    "\n",
    "# if False:\n",
    "#     import pickle\n",
    "#     sr_model = SymbolicRegressor()"
   ]
  },
  {
   "cell_type": "code",
   "execution_count": 45,
   "id": "bffa52cc-1644-41e2-abbc-daa1bf5b4dbd",
   "metadata": {
    "tags": []
   },
   "outputs": [
    {
     "name": "stdout",
     "output_type": "stream",
     "text": [
      "    |   Population Average    |             Best Individual              |\n",
      "---- ------------------------- ------------------------------------------ ----------\n",
      " Gen   Length          Fitness   Length          Fitness      OOB Fitness  Time Left\n",
      "   0    20.26          467.332        7         0.678894         0.754338     47.48s\n",
      "   1    10.60          2.27727        7         0.678593         0.757039     38.27s\n",
      "   2     8.06          1.90865       11         0.650967         0.715225     34.80s\n",
      "   3     8.20          2.22244       11         0.656818         0.662769     38.03s\n",
      "   4     8.33          1.82073       11         0.648083         0.737215     34.11s\n",
      "   5     9.48          1.94291       11         0.645613         0.759359     34.05s\n",
      "   6    10.55          2.16806       17         0.640158         0.658928     34.08s\n",
      "   7    10.84          2.04997       25         0.631645         0.625703     33.82s\n",
      "   8    11.21          2.07504       25         0.618944          0.73959     33.53s\n",
      "   9    12.79          1.91387       29         0.616578         0.706914     33.53s\n",
      "  10    16.80          1.75504       22         0.604603         0.723504     35.85s\n",
      "  11    18.73          1.64168       45         0.607091         0.646866     36.38s\n",
      "  12    18.59          1.63921       43         0.586138         0.693942     35.98s\n",
      "  13    19.59          1.81028       34         0.590856         0.615649     34.76s\n",
      "  14    21.46          1.92308       25         0.589846          0.70993     34.52s\n",
      "  15    23.27          1.86153       27         0.582065         0.636378     34.21s\n",
      "  16    24.58          1.88701       27         0.580255         0.652608     33.62s\n",
      "  17    26.95          1.82684       43         0.570815         0.717172     33.66s\n",
      "  18    27.79          1.71636       34         0.578532         0.755315     32.77s\n",
      "  19    28.24          1.78028       34         0.574558         0.761783     31.57s\n",
      "  20    26.99           1.7975       27         0.576515          0.68614     29.96s\n",
      "  21    26.29          1.83521       45          0.57538         0.661651     28.48s\n",
      "  22    27.32          1.79556       43         0.569451         0.683713     30.02s\n",
      "  23    27.08          1.90381       47         0.571806         0.673384     26.72s\n",
      "  24    25.94           1.9199       41         0.567707         0.710255     24.84s\n",
      "  25    25.34          1.90952       39         0.571063         0.669259     23.08s\n",
      "  26    25.40          1.78674       25         0.567334         0.768465     21.90s\n",
      "  27    26.16          1.70233       25         0.572165         0.725142     20.87s\n",
      "  28    25.29          1.76756       39         0.567549         0.711677     19.29s\n",
      "  29    25.67          1.80995       37         0.570498         0.651913     18.32s\n",
      "  30    24.69          1.84747       41          0.57281         0.684695     16.59s\n",
      "  31    24.43           1.8749       37         0.568448         0.670296     15.45s\n",
      "  32    24.15          1.89111       37         0.567224         0.681269     13.97s\n",
      "  33    24.42          1.84871       23         0.571861         0.727872     12.83s\n",
      "  34    24.21           1.9385       35         0.569008         0.665277     11.52s\n",
      "  35    24.33          1.84254       23         0.571378         0.732198     10.43s\n",
      "  36    23.50          1.67634       39         0.570982         0.701079      9.11s\n",
      "  37    23.43          1.91557       43         0.569634         0.692856      8.02s\n",
      "  38    22.81          1.81635       39         0.571554          0.69595      6.67s\n",
      "  39    22.64          1.85668       37         0.570593         0.684382      5.59s\n",
      "  40    23.19          1.78509       33         0.570242         0.664642      4.91s\n",
      "  41    23.67          1.97171       23         0.571212         0.733688      3.37s\n",
      "  42    23.45          1.74186       33         0.574402         0.627344      2.25s\n",
      "  43    23.33          1.81934       33         0.571835         0.650361      1.13s\n",
      "  44    23.47          1.87371       37         0.566728         0.719031      0.00s\n"
     ]
    },
    {
     "data": {
      "text/html": [
       "<style>#sk-container-id-4 {color: black;}#sk-container-id-4 pre{padding: 0;}#sk-container-id-4 div.sk-toggleable {background-color: white;}#sk-container-id-4 label.sk-toggleable__label {cursor: pointer;display: block;width: 100%;margin-bottom: 0;padding: 0.3em;box-sizing: border-box;text-align: center;}#sk-container-id-4 label.sk-toggleable__label-arrow:before {content: \"▸\";float: left;margin-right: 0.25em;color: #696969;}#sk-container-id-4 label.sk-toggleable__label-arrow:hover:before {color: black;}#sk-container-id-4 div.sk-estimator:hover label.sk-toggleable__label-arrow:before {color: black;}#sk-container-id-4 div.sk-toggleable__content {max-height: 0;max-width: 0;overflow: hidden;text-align: left;background-color: #f0f8ff;}#sk-container-id-4 div.sk-toggleable__content pre {margin: 0.2em;color: black;border-radius: 0.25em;background-color: #f0f8ff;}#sk-container-id-4 input.sk-toggleable__control:checked~div.sk-toggleable__content {max-height: 200px;max-width: 100%;overflow: auto;}#sk-container-id-4 input.sk-toggleable__control:checked~label.sk-toggleable__label-arrow:before {content: \"▾\";}#sk-container-id-4 div.sk-estimator input.sk-toggleable__control:checked~label.sk-toggleable__label {background-color: #d4ebff;}#sk-container-id-4 div.sk-label input.sk-toggleable__control:checked~label.sk-toggleable__label {background-color: #d4ebff;}#sk-container-id-4 input.sk-hidden--visually {border: 0;clip: rect(1px 1px 1px 1px);clip: rect(1px, 1px, 1px, 1px);height: 1px;margin: -1px;overflow: hidden;padding: 0;position: absolute;width: 1px;}#sk-container-id-4 div.sk-estimator {font-family: monospace;background-color: #f0f8ff;border: 1px dotted black;border-radius: 0.25em;box-sizing: border-box;margin-bottom: 0.5em;}#sk-container-id-4 div.sk-estimator:hover {background-color: #d4ebff;}#sk-container-id-4 div.sk-parallel-item::after {content: \"\";width: 100%;border-bottom: 1px solid gray;flex-grow: 1;}#sk-container-id-4 div.sk-label:hover label.sk-toggleable__label {background-color: #d4ebff;}#sk-container-id-4 div.sk-serial::before {content: \"\";position: absolute;border-left: 1px solid gray;box-sizing: border-box;top: 0;bottom: 0;left: 50%;z-index: 0;}#sk-container-id-4 div.sk-serial {display: flex;flex-direction: column;align-items: center;background-color: white;padding-right: 0.2em;padding-left: 0.2em;position: relative;}#sk-container-id-4 div.sk-item {position: relative;z-index: 1;}#sk-container-id-4 div.sk-parallel {display: flex;align-items: stretch;justify-content: center;background-color: white;position: relative;}#sk-container-id-4 div.sk-item::before, #sk-container-id-4 div.sk-parallel-item::before {content: \"\";position: absolute;border-left: 1px solid gray;box-sizing: border-box;top: 0;bottom: 0;left: 50%;z-index: -1;}#sk-container-id-4 div.sk-parallel-item {display: flex;flex-direction: column;z-index: 1;position: relative;background-color: white;}#sk-container-id-4 div.sk-parallel-item:first-child::after {align-self: flex-end;width: 50%;}#sk-container-id-4 div.sk-parallel-item:last-child::after {align-self: flex-start;width: 50%;}#sk-container-id-4 div.sk-parallel-item:only-child::after {width: 0;}#sk-container-id-4 div.sk-dashed-wrapped {border: 1px dashed gray;margin: 0 0.4em 0.5em 0.4em;box-sizing: border-box;padding-bottom: 0.4em;background-color: white;}#sk-container-id-4 div.sk-label label {font-family: monospace;font-weight: bold;display: inline-block;line-height: 1.2em;}#sk-container-id-4 div.sk-label-container {text-align: center;}#sk-container-id-4 div.sk-container {/* jupyter's `normalize.less` sets `[hidden] { display: none; }` but bootstrap.min.css set `[hidden] { display: none !important; }` so we also need the `!important` here to be able to override the default hidden behavior on the sphinx rendered scikit-learn.org. See: https://github.com/scikit-learn/scikit-learn/issues/21755 */display: inline-block !important;position: relative;}#sk-container-id-4 div.sk-text-repr-fallback {display: none;}</style><div id=\"sk-container-id-4\" class=\"sk-top-container\"><div class=\"sk-text-repr-fallback\"><pre>add(-0.237, inv(add(add(inv(add(-0.237, inv(add(add(inv(add(inv(log(0.034)), add(add(X0, -0.684), X0))), add(add(X0, -0.684), -0.684)), add(X0, -0.684))))), add(add(X0, -0.684), -0.684)), add(X0, -0.684))))</pre><b>In a Jupyter environment, please rerun this cell to show the HTML representation or trust the notebook. <br />On GitHub, the HTML representation is unable to render, please try loading this page with nbviewer.org.</b></div><div class=\"sk-container\" hidden><div class=\"sk-item\"><div class=\"sk-estimator sk-toggleable\"><input class=\"sk-toggleable__control sk-hidden--visually\" id=\"sk-estimator-id-4\" type=\"checkbox\" checked><label for=\"sk-estimator-id-4\" class=\"sk-toggleable__label sk-toggleable__label-arrow\">SymbolicRegressor</label><div class=\"sk-toggleable__content\"><pre>add(-0.237, inv(add(add(inv(add(-0.237, inv(add(add(inv(add(inv(log(0.034)), add(add(X0, -0.684), X0))), add(add(X0, -0.684), -0.684)), add(X0, -0.684))))), add(add(X0, -0.684), -0.684)), add(X0, -0.684))))</pre></div></div></div></div></div>"
      ],
      "text/plain": [
       "SymbolicRegressor(function_set=('add', 'sub', 'mul', 'log', 'inv'),\n",
       "                  generations=45, max_samples=0.9, random_state=42,\n",
       "                  stopping_criteria=0.01, verbose=1)"
      ]
     },
     "execution_count": 45,
     "metadata": {},
     "output_type": "execute_result"
    }
   ],
   "source": [
    "#fit data to the model\n",
    "model.fit(X_train[:,45].reshape(-1,1), y_train[:,45].ravel())"
   ]
  },
  {
   "cell_type": "code",
   "execution_count": 46,
   "id": "dd0d8491-79f0-4a29-b9ce-9da79569584a",
   "metadata": {
    "tags": []
   },
   "outputs": [
    {
     "name": "stdout",
     "output_type": "stream",
     "text": [
      "{'method': 'Crossover', 'parent_idx': 688, 'parent_nodes': range(6, 15), 'donor_idx': 841, 'donor_nodes': []}\n",
      "0.5667284980418597\n"
     ]
    }
   ],
   "source": [
    "print(model._program.parents)\n",
    "print(model._program.raw_fitness_)"
   ]
  },
  {
   "cell_type": "code",
   "execution_count": 47,
   "id": "2cdbfad0-df3e-4580-b458-37e59739dfae",
   "metadata": {
    "tags": []
   },
   "outputs": [],
   "source": [
    "#make predictions based on test data\n",
    "y_predict = model.predict(X_test[:,45].reshape(-1,1))"
   ]
  },
  {
   "cell_type": "code",
   "execution_count": 48,
   "id": "312d282b-79bb-49c4-8968-2d157dfed957",
   "metadata": {
    "tags": []
   },
   "outputs": [],
   "source": [
    "#get r^2 score based on test data\n",
    "# score = model.score(X_test[:,40].reshape(-1,1), y_test[:,40].reshape(-1,1))\n",
    "score = model.score(X_test[:,45].reshape(-1,1), y_test[:,45].ravel())"
   ]
  },
  {
   "cell_type": "code",
   "execution_count": 49,
   "id": "450981f6-363a-427b-a7db-37ef7f062fe3",
   "metadata": {
    "tags": []
   },
   "outputs": [
    {
     "name": "stdout",
     "output_type": "stream",
     "text": [
      "the r^2 score is 0.2506865681444259\n"
     ]
    },
    {
     "data": {
      "image/png": "[encoded data removed]",
      "text/plain": [
       "<Figure size 640x480 with 1 Axes>"
      ]
     },
     "metadata": {},
     "output_type": "display_data"
    }
   ],
   "source": [
    "#plotting prediction at surface for whole data \n",
    "plt.scatter(x_norm[:,45], y_norm[:,45], label = \"Truth\", )#color = 'blue')\n",
    "plt.scatter(X_test[:,45],y_predict, color = \"red\", label = \"Prediction\")\n",
    "plt.xlabel(\"dq/dz\")\n",
    "plt.ylabel(\"Moisture Flux\")\n",
    "plt.suptitle(\"Prediction of water vapor flux\")\n",
    "plt.legend()\n",
    "print(f'the r^2 score is {score}')\n",
    "             "
   ]
  },
  {
   "cell_type": "code",
   "execution_count": 50,
   "id": "cbf0efd7-e9b1-4805-b4af-c73366cdd060",
   "metadata": {
    "tags": []
   },
   "outputs": [
    {
     "data": {
      "image/svg+xml": [
       "<?xml version=\"1.0\" encoding=\"UTF-8\" standalone=\"no\"?>\n",
       "<!DOCTYPE svg PUBLIC \"-//W3C//DTD SVG 1.1//EN\"\n",
       " \"http://www.w3.org/Graphics/SVG/1.1/DTD/svg11.dtd\">\n",
       "<!-- Generated by graphviz version 8.0.5 (20230506.1012)\n",
       " -->\n",
       "<!-- Title: program Pages: 1 -->\n",
       "<svg width=\"475pt\" height=\"980pt\"\n",
       " viewBox=\"0.00 0.00 475.33 980.00\" xmlns=\"http://www.w3.org/2000/svg\" xmlns:xlink=\"http://www.w3.org/1999/xlink\">\n",
       "<g id=\"graph0\" class=\"graph\" transform=\"scale(1 1) rotate(0) translate(4 976)\">\n",
       "<title>program</title>\n",
       "<polygon fill=\"white\" stroke=\"none\" points=\"-4,4 -4,-976 471.33,-976 471.33,4 -4,4\"/>\n",
       "<!-- 0 -->\n",
       "<g id=\"node1\" class=\"node\">\n",
       "<title>0</title>\n",
       "<ellipse fill=\"#136ed4\" stroke=\"black\" cx=\"281.73\" cy=\"-954\" rx=\"27\" ry=\"18\"/>\n",
       "<text text-anchor=\"middle\" x=\"281.73\" y=\"-947.83\" font-family=\"Times,serif\" font-size=\"14.00\">add</text>\n",
       "</g>\n",
       "<!-- 1 -->\n",
       "<g id=\"node2\" class=\"node\">\n",
       "<title>1</title>\n",
       "<ellipse fill=\"#60a6f6\" stroke=\"black\" cx=\"242.73\" cy=\"-882\" rx=\"32.6\" ry=\"18\"/>\n",
       "<text text-anchor=\"middle\" x=\"242.73\" y=\"-875.83\" font-family=\"Times,serif\" font-size=\"14.00\">&#45;0.237</text>\n",
       "</g>\n",
       "<!-- 0&#45;&gt;1 -->\n",
       "<g id=\"edge36\" class=\"edge\">\n",
       "<title>0&#45;&gt;1</title>\n",
       "<path fill=\"none\" stroke=\"black\" d=\"M272.69,-936.76C268.13,-928.58 262.48,-918.45 257.33,-909.2\"/>\n",
       "<polygon fill=\"black\" stroke=\"black\" points=\"259.93,-907.67 252,-900.63 253.81,-911.07 259.93,-907.67\"/>\n",
       "</g>\n",
       "<!-- 2 -->\n",
       "<g id=\"node3\" class=\"node\">\n",
       "<title>2</title>\n",
       "<ellipse fill=\"#136ed4\" stroke=\"black\" cx=\"320.73\" cy=\"-882\" rx=\"27\" ry=\"18\"/>\n",
       "<text text-anchor=\"middle\" x=\"320.73\" y=\"-875.83\" font-family=\"Times,serif\" font-size=\"14.00\">inv</text>\n",
       "</g>\n",
       "<!-- 0&#45;&gt;2 -->\n",
       "<g id=\"edge35\" class=\"edge\">\n",
       "<title>0&#45;&gt;2</title>\n",
       "<path fill=\"none\" stroke=\"black\" d=\"M290.78,-936.76C295.46,-928.37 301.27,-917.93 306.53,-908.5\"/>\n",
       "<polygon fill=\"black\" stroke=\"black\" points=\"309.93,-910.59 311.74,-900.15 303.81,-907.18 309.93,-910.59\"/>\n",
       "</g>\n",
       "<!-- 3 -->\n",
       "<g id=\"node4\" class=\"node\">\n",
       "<title>3</title>\n",
       "<ellipse fill=\"#136ed4\" stroke=\"black\" cx=\"320.73\" cy=\"-810\" rx=\"27\" ry=\"18\"/>\n",
       "<text text-anchor=\"middle\" x=\"320.73\" y=\"-803.83\" font-family=\"Times,serif\" font-size=\"14.00\">add</text>\n",
       "</g>\n",
       "<!-- 2&#45;&gt;3 -->\n",
       "<g id=\"edge34\" class=\"edge\">\n",
       "<title>2&#45;&gt;3</title>\n",
       "<path fill=\"none\" stroke=\"black\" d=\"M320.73,-863.7C320.73,-856.24 320.73,-847.32 320.73,-838.97\"/>\n",
       "<polygon fill=\"black\" stroke=\"black\" points=\"324.23,-839.1 320.73,-829.1 317.23,-839.1 324.23,-839.1\"/>\n",
       "</g>\n",
       "<!-- 4 -->\n",
       "<g id=\"node5\" class=\"node\">\n",
       "<title>4</title>\n",
       "<ellipse fill=\"#136ed4\" stroke=\"black\" cx=\"284.73\" cy=\"-738\" rx=\"27\" ry=\"18\"/>\n",
       "<text text-anchor=\"middle\" x=\"284.73\" y=\"-731.83\" font-family=\"Times,serif\" font-size=\"14.00\">add</text>\n",
       "</g>\n",
       "<!-- 3&#45;&gt;4 -->\n",
       "<g id=\"edge33\" class=\"edge\">\n",
       "<title>3&#45;&gt;4</title>\n",
       "<path fill=\"none\" stroke=\"black\" d=\"M312.38,-792.76C308.11,-784.46 302.81,-774.15 298,-764.79\"/>\n",
       "<polygon fill=\"black\" stroke=\"black\" points=\"300.72,-763.44 293.04,-756.15 294.5,-766.64 300.72,-763.44\"/>\n",
       "</g>\n",
       "<!-- 34 -->\n",
       "<g id=\"node35\" class=\"node\">\n",
       "<title>34</title>\n",
       "<ellipse fill=\"#136ed4\" stroke=\"black\" cx=\"356.73\" cy=\"-738\" rx=\"27\" ry=\"18\"/>\n",
       "<text text-anchor=\"middle\" x=\"356.73\" y=\"-731.83\" font-family=\"Times,serif\" font-size=\"14.00\">add</text>\n",
       "</g>\n",
       "<!-- 3&#45;&gt;34 -->\n",
       "<g id=\"edge32\" class=\"edge\">\n",
       "<title>3&#45;&gt;34</title>\n",
       "<path fill=\"none\" stroke=\"black\" d=\"M329.08,-792.76C333.35,-784.46 338.65,-774.15 343.47,-764.79\"/>\n",
       "<polygon fill=\"black\" stroke=\"black\" points=\"346.97,-766.64 348.43,-756.15 340.74,-763.44 346.97,-766.64\"/>\n",
       "</g>\n",
       "<!-- 5 -->\n",
       "<g id=\"node6\" class=\"node\">\n",
       "<title>5</title>\n",
       "<ellipse fill=\"#136ed4\" stroke=\"black\" cx=\"212.73\" cy=\"-666\" rx=\"27\" ry=\"18\"/>\n",
       "<text text-anchor=\"middle\" x=\"212.73\" y=\"-659.83\" font-family=\"Times,serif\" font-size=\"14.00\">inv</text>\n",
       "</g>\n",
       "<!-- 4&#45;&gt;5 -->\n",
       "<g id=\"edge29\" class=\"edge\">\n",
       "<title>4&#45;&gt;5</title>\n",
       "<path fill=\"none\" stroke=\"black\" d=\"M269.82,-722.5C259.87,-712.83 246.62,-699.94 235.38,-689.02\"/>\n",
       "<polygon fill=\"black\" stroke=\"black\" points=\"238.24,-686.95 228.63,-682.49 233.36,-691.97 238.24,-686.95\"/>\n",
       "</g>\n",
       "<!-- 29 -->\n",
       "<g id=\"node30\" class=\"node\">\n",
       "<title>29</title>\n",
       "<ellipse fill=\"#136ed4\" stroke=\"black\" cx=\"284.73\" cy=\"-666\" rx=\"27\" ry=\"18\"/>\n",
       "<text text-anchor=\"middle\" x=\"284.73\" y=\"-659.83\" font-family=\"Times,serif\" font-size=\"14.00\">add</text>\n",
       "</g>\n",
       "<!-- 4&#45;&gt;29 -->\n",
       "<g id=\"edge28\" class=\"edge\">\n",
       "<title>4&#45;&gt;29</title>\n",
       "<path fill=\"none\" stroke=\"black\" d=\"M284.73,-719.7C284.73,-712.24 284.73,-703.32 284.73,-694.97\"/>\n",
       "<polygon fill=\"black\" stroke=\"black\" points=\"288.23,-695.1 284.73,-685.1 281.23,-695.1 288.23,-695.1\"/>\n",
       "</g>\n",
       "<!-- 6 -->\n",
       "<g id=\"node7\" class=\"node\">\n",
       "<title>6</title>\n",
       "<ellipse fill=\"#136ed4\" stroke=\"black\" cx=\"212.73\" cy=\"-594\" rx=\"27\" ry=\"18\"/>\n",
       "<text text-anchor=\"middle\" x=\"212.73\" y=\"-587.83\" font-family=\"Times,serif\" font-size=\"14.00\">add</text>\n",
       "</g>\n",
       "<!-- 5&#45;&gt;6 -->\n",
       "<g id=\"edge23\" class=\"edge\">\n",
       "<title>5&#45;&gt;6</title>\n",
       "<path fill=\"none\" stroke=\"black\" d=\"M212.73,-647.7C212.73,-640.24 212.73,-631.32 212.73,-622.97\"/>\n",
       "<polygon fill=\"black\" stroke=\"black\" points=\"216.23,-623.1 212.73,-613.1 209.23,-623.1 216.23,-623.1\"/>\n",
       "</g>\n",
       "<!-- 7 -->\n",
       "<g id=\"node8\" class=\"node\">\n",
       "<title>7</title>\n",
       "<ellipse fill=\"#60a6f6\" stroke=\"black\" cx=\"134.73\" cy=\"-522\" rx=\"32.6\" ry=\"18\"/>\n",
       "<text text-anchor=\"middle\" x=\"134.73\" y=\"-515.83\" font-family=\"Times,serif\" font-size=\"14.00\">&#45;0.237</text>\n",
       "</g>\n",
       "<!-- 6&#45;&gt;7 -->\n",
       "<g id=\"edge22\" class=\"edge\">\n",
       "<title>6&#45;&gt;7</title>\n",
       "<path fill=\"none\" stroke=\"black\" d=\"M197.32,-579.17C186.5,-569.46 171.8,-556.26 159.36,-545.1\"/>\n",
       "<polygon fill=\"black\" stroke=\"black\" points=\"161.97,-542.84 152.19,-538.77 157.29,-548.05 161.97,-542.84\"/>\n",
       "</g>\n",
       "<!-- 8 -->\n",
       "<g id=\"node9\" class=\"node\">\n",
       "<title>8</title>\n",
       "<ellipse fill=\"#136ed4\" stroke=\"black\" cx=\"212.73\" cy=\"-522\" rx=\"27\" ry=\"18\"/>\n",
       "<text text-anchor=\"middle\" x=\"212.73\" y=\"-515.83\" font-family=\"Times,serif\" font-size=\"14.00\">inv</text>\n",
       "</g>\n",
       "<!-- 6&#45;&gt;8 -->\n",
       "<g id=\"edge21\" class=\"edge\">\n",
       "<title>6&#45;&gt;8</title>\n",
       "<path fill=\"none\" stroke=\"black\" d=\"M212.73,-575.7C212.73,-568.24 212.73,-559.32 212.73,-550.97\"/>\n",
       "<polygon fill=\"black\" stroke=\"black\" points=\"216.23,-551.1 212.73,-541.1 209.23,-551.1 216.23,-551.1\"/>\n",
       "</g>\n",
       "<!-- 9 -->\n",
       "<g id=\"node10\" class=\"node\">\n",
       "<title>9</title>\n",
       "<ellipse fill=\"#136ed4\" stroke=\"black\" cx=\"212.73\" cy=\"-450\" rx=\"27\" ry=\"18\"/>\n",
       "<text text-anchor=\"middle\" x=\"212.73\" y=\"-443.82\" font-family=\"Times,serif\" font-size=\"14.00\">add</text>\n",
       "</g>\n",
       "<!-- 8&#45;&gt;9 -->\n",
       "<g id=\"edge20\" class=\"edge\">\n",
       "<title>8&#45;&gt;9</title>\n",
       "<path fill=\"none\" stroke=\"black\" d=\"M212.73,-503.7C212.73,-496.24 212.73,-487.32 212.73,-478.97\"/>\n",
       "<polygon fill=\"black\" stroke=\"black\" points=\"216.23,-479.1 212.73,-469.1 209.23,-479.1 216.23,-479.1\"/>\n",
       "</g>\n",
       "<!-- 10 -->\n",
       "<g id=\"node11\" class=\"node\">\n",
       "<title>10</title>\n",
       "<ellipse fill=\"#136ed4\" stroke=\"black\" cx=\"176.73\" cy=\"-378\" rx=\"27\" ry=\"18\"/>\n",
       "<text text-anchor=\"middle\" x=\"176.73\" y=\"-371.82\" font-family=\"Times,serif\" font-size=\"14.00\">add</text>\n",
       "</g>\n",
       "<!-- 9&#45;&gt;10 -->\n",
       "<g id=\"edge19\" class=\"edge\">\n",
       "<title>9&#45;&gt;10</title>\n",
       "<path fill=\"none\" stroke=\"black\" d=\"M204.38,-432.76C200.11,-424.46 194.81,-414.15 190,-404.79\"/>\n",
       "<polygon fill=\"black\" stroke=\"black\" points=\"192.72,-403.44 185.04,-396.15 186.5,-406.64 192.72,-403.44\"/>\n",
       "</g>\n",
       "<!-- 26 -->\n",
       "<g id=\"node27\" class=\"node\">\n",
       "<title>26</title>\n",
       "<ellipse fill=\"#136ed4\" stroke=\"black\" cx=\"248.73\" cy=\"-378\" rx=\"27\" ry=\"18\"/>\n",
       "<text text-anchor=\"middle\" x=\"248.73\" y=\"-371.82\" font-family=\"Times,serif\" font-size=\"14.00\">add</text>\n",
       "</g>\n",
       "<!-- 9&#45;&gt;26 -->\n",
       "<g id=\"edge18\" class=\"edge\">\n",
       "<title>9&#45;&gt;26</title>\n",
       "<path fill=\"none\" stroke=\"black\" d=\"M221.08,-432.76C225.35,-424.46 230.65,-414.15 235.47,-404.79\"/>\n",
       "<polygon fill=\"black\" stroke=\"black\" points=\"238.97,-406.64 240.43,-396.15 232.74,-403.44 238.97,-406.64\"/>\n",
       "</g>\n",
       "<!-- 11 -->\n",
       "<g id=\"node12\" class=\"node\">\n",
       "<title>11</title>\n",
       "<ellipse fill=\"#136ed4\" stroke=\"black\" cx=\"104.73\" cy=\"-306\" rx=\"27\" ry=\"18\"/>\n",
       "<text text-anchor=\"middle\" x=\"104.73\" y=\"-299.82\" font-family=\"Times,serif\" font-size=\"14.00\">inv</text>\n",
       "</g>\n",
       "<!-- 10&#45;&gt;11 -->\n",
       "<g id=\"edge15\" class=\"edge\">\n",
       "<title>10&#45;&gt;11</title>\n",
       "<path fill=\"none\" stroke=\"black\" d=\"M161.82,-362.5C151.87,-352.83 138.62,-339.94 127.38,-329.02\"/>\n",
       "<polygon fill=\"black\" stroke=\"black\" points=\"130.24,-326.95 120.63,-322.49 125.36,-331.97 130.24,-326.95\"/>\n",
       "</g>\n",
       "<!-- 21 -->\n",
       "<g id=\"node22\" class=\"node\">\n",
       "<title>21</title>\n",
       "<ellipse fill=\"#136ed4\" stroke=\"black\" cx=\"176.73\" cy=\"-306\" rx=\"27\" ry=\"18\"/>\n",
       "<text text-anchor=\"middle\" x=\"176.73\" y=\"-299.82\" font-family=\"Times,serif\" font-size=\"14.00\">add</text>\n",
       "</g>\n",
       "<!-- 10&#45;&gt;21 -->\n",
       "<g id=\"edge14\" class=\"edge\">\n",
       "<title>10&#45;&gt;21</title>\n",
       "<path fill=\"none\" stroke=\"black\" d=\"M176.73,-359.7C176.73,-352.24 176.73,-343.32 176.73,-334.97\"/>\n",
       "<polygon fill=\"black\" stroke=\"black\" points=\"180.23,-335.1 176.73,-325.1 173.23,-335.1 180.23,-335.1\"/>\n",
       "</g>\n",
       "<!-- 12 -->\n",
       "<g id=\"node13\" class=\"node\">\n",
       "<title>12</title>\n",
       "<ellipse fill=\"#136ed4\" stroke=\"black\" cx=\"104.73\" cy=\"-234\" rx=\"27\" ry=\"18\"/>\n",
       "<text text-anchor=\"middle\" x=\"104.73\" y=\"-227.82\" font-family=\"Times,serif\" font-size=\"14.00\">add</text>\n",
       "</g>\n",
       "<!-- 11&#45;&gt;12 -->\n",
       "<g id=\"edge9\" class=\"edge\">\n",
       "<title>11&#45;&gt;12</title>\n",
       "<path fill=\"none\" stroke=\"black\" d=\"M104.73,-287.7C104.73,-280.24 104.73,-271.32 104.73,-262.97\"/>\n",
       "<polygon fill=\"black\" stroke=\"black\" points=\"108.23,-263.1 104.73,-253.1 101.23,-263.1 108.23,-263.1\"/>\n",
       "</g>\n",
       "<!-- 13 -->\n",
       "<g id=\"node14\" class=\"node\">\n",
       "<title>13</title>\n",
       "<ellipse fill=\"#136ed4\" stroke=\"black\" cx=\"32.73\" cy=\"-162\" rx=\"27\" ry=\"18\"/>\n",
       "<text text-anchor=\"middle\" x=\"32.73\" y=\"-155.82\" font-family=\"Times,serif\" font-size=\"14.00\">inv</text>\n",
       "</g>\n",
       "<!-- 12&#45;&gt;13 -->\n",
       "<g id=\"edge8\" class=\"edge\">\n",
       "<title>12&#45;&gt;13</title>\n",
       "<path fill=\"none\" stroke=\"black\" d=\"M89.82,-218.5C79.87,-208.83 66.62,-195.94 55.38,-185.02\"/>\n",
       "<polygon fill=\"black\" stroke=\"black\" points=\"58.24,-182.95 48.63,-178.49 53.36,-187.97 58.24,-182.95\"/>\n",
       "</g>\n",
       "<!-- 16 -->\n",
       "<g id=\"node17\" class=\"node\">\n",
       "<title>16</title>\n",
       "<ellipse fill=\"#136ed4\" stroke=\"black\" cx=\"104.73\" cy=\"-162\" rx=\"27\" ry=\"18\"/>\n",
       "<text text-anchor=\"middle\" x=\"104.73\" y=\"-155.82\" font-family=\"Times,serif\" font-size=\"14.00\">add</text>\n",
       "</g>\n",
       "<!-- 12&#45;&gt;16 -->\n",
       "<g id=\"edge7\" class=\"edge\">\n",
       "<title>12&#45;&gt;16</title>\n",
       "<path fill=\"none\" stroke=\"black\" d=\"M104.73,-215.7C104.73,-208.24 104.73,-199.32 104.73,-190.97\"/>\n",
       "<polygon fill=\"black\" stroke=\"black\" points=\"108.23,-191.1 104.73,-181.1 101.23,-191.1 108.23,-191.1\"/>\n",
       "</g>\n",
       "<!-- 14 -->\n",
       "<g id=\"node15\" class=\"node\">\n",
       "<title>14</title>\n",
       "<ellipse fill=\"#136ed4\" stroke=\"black\" cx=\"31.73\" cy=\"-90\" rx=\"27\" ry=\"18\"/>\n",
       "<text text-anchor=\"middle\" x=\"31.73\" y=\"-83.83\" font-family=\"Times,serif\" font-size=\"14.00\">log</text>\n",
       "</g>\n",
       "<!-- 13&#45;&gt;14 -->\n",
       "<g id=\"edge2\" class=\"edge\">\n",
       "<title>13&#45;&gt;14</title>\n",
       "<path fill=\"none\" stroke=\"black\" d=\"M32.49,-143.7C32.38,-136.24 32.25,-127.32 32.13,-118.97\"/>\n",
       "<polygon fill=\"black\" stroke=\"black\" points=\"35.62,-119.05 31.98,-109.1 28.62,-119.15 35.62,-119.05\"/>\n",
       "</g>\n",
       "<!-- 15 -->\n",
       "<g id=\"node16\" class=\"node\">\n",
       "<title>15</title>\n",
       "<ellipse fill=\"#60a6f6\" stroke=\"black\" cx=\"29.73\" cy=\"-18\" rx=\"29.73\" ry=\"18\"/>\n",
       "<text text-anchor=\"middle\" x=\"29.73\" y=\"-11.82\" font-family=\"Times,serif\" font-size=\"14.00\">0.034</text>\n",
       "</g>\n",
       "<!-- 14&#45;&gt;15 -->\n",
       "<g id=\"edge1\" class=\"edge\">\n",
       "<title>14&#45;&gt;15</title>\n",
       "<path fill=\"none\" stroke=\"black\" d=\"M31.24,-71.7C31.03,-64.24 30.77,-55.32 30.53,-46.97\"/>\n",
       "<polygon fill=\"black\" stroke=\"black\" points=\"34.01,-47 30.22,-37.1 27.01,-47.2 34.01,-47\"/>\n",
       "</g>\n",
       "<!-- 17 -->\n",
       "<g id=\"node18\" class=\"node\">\n",
       "<title>17</title>\n",
       "<ellipse fill=\"#136ed4\" stroke=\"black\" cx=\"104.73\" cy=\"-90\" rx=\"27\" ry=\"18\"/>\n",
       "<text text-anchor=\"middle\" x=\"104.73\" y=\"-83.83\" font-family=\"Times,serif\" font-size=\"14.00\">add</text>\n",
       "</g>\n",
       "<!-- 16&#45;&gt;17 -->\n",
       "<g id=\"edge6\" class=\"edge\">\n",
       "<title>16&#45;&gt;17</title>\n",
       "<path fill=\"none\" stroke=\"black\" d=\"M104.73,-143.7C104.73,-136.24 104.73,-127.32 104.73,-118.97\"/>\n",
       "<polygon fill=\"black\" stroke=\"black\" points=\"108.23,-119.1 104.73,-109.1 101.23,-119.1 108.23,-119.1\"/>\n",
       "</g>\n",
       "<!-- 20 -->\n",
       "<g id=\"node21\" class=\"node\">\n",
       "<title>20</title>\n",
       "<ellipse fill=\"#60a6f6\" stroke=\"black\" cx=\"176.73\" cy=\"-90\" rx=\"27\" ry=\"18\"/>\n",
       "<text text-anchor=\"middle\" x=\"176.73\" y=\"-83.83\" font-family=\"Times,serif\" font-size=\"14.00\">X0</text>\n",
       "</g>\n",
       "<!-- 16&#45;&gt;20 -->\n",
       "<g id=\"edge5\" class=\"edge\">\n",
       "<title>16&#45;&gt;20</title>\n",
       "<path fill=\"none\" stroke=\"black\" d=\"M119.65,-146.5C129.6,-136.83 142.85,-123.94 154.09,-113.02\"/>\n",
       "<polygon fill=\"black\" stroke=\"black\" points=\"156.1,-115.97 160.83,-106.49 151.23,-110.95 156.1,-115.97\"/>\n",
       "</g>\n",
       "<!-- 18 -->\n",
       "<g id=\"node19\" class=\"node\">\n",
       "<title>18</title>\n",
       "<ellipse fill=\"#60a6f6\" stroke=\"black\" cx=\"104.73\" cy=\"-18\" rx=\"27\" ry=\"18\"/>\n",
       "<text text-anchor=\"middle\" x=\"104.73\" y=\"-11.82\" font-family=\"Times,serif\" font-size=\"14.00\">X0</text>\n",
       "</g>\n",
       "<!-- 17&#45;&gt;18 -->\n",
       "<g id=\"edge4\" class=\"edge\">\n",
       "<title>17&#45;&gt;18</title>\n",
       "<path fill=\"none\" stroke=\"black\" d=\"M104.73,-71.7C104.73,-64.24 104.73,-55.32 104.73,-46.97\"/>\n",
       "<polygon fill=\"black\" stroke=\"black\" points=\"108.23,-47.1 104.73,-37.1 101.23,-47.1 108.23,-47.1\"/>\n",
       "</g>\n",
       "<!-- 19 -->\n",
       "<g id=\"node20\" class=\"node\">\n",
       "<title>19</title>\n",
       "<ellipse fill=\"#60a6f6\" stroke=\"black\" cx=\"182.73\" cy=\"-18\" rx=\"32.6\" ry=\"18\"/>\n",
       "<text text-anchor=\"middle\" x=\"182.73\" y=\"-11.82\" font-family=\"Times,serif\" font-size=\"14.00\">&#45;0.684</text>\n",
       "</g>\n",
       "<!-- 17&#45;&gt;19 -->\n",
       "<g id=\"edge3\" class=\"edge\">\n",
       "<title>17&#45;&gt;19</title>\n",
       "<path fill=\"none\" stroke=\"black\" d=\"M120.14,-75.17C130.97,-65.46 145.67,-52.26 158.11,-41.1\"/>\n",
       "<polygon fill=\"black\" stroke=\"black\" points=\"160.17,-44.05 165.28,-34.77 155.5,-38.84 160.17,-44.05\"/>\n",
       "</g>\n",
       "<!-- 22 -->\n",
       "<g id=\"node23\" class=\"node\">\n",
       "<title>22</title>\n",
       "<ellipse fill=\"#136ed4\" stroke=\"black\" cx=\"176.73\" cy=\"-234\" rx=\"27\" ry=\"18\"/>\n",
       "<text text-anchor=\"middle\" x=\"176.73\" y=\"-227.82\" font-family=\"Times,serif\" font-size=\"14.00\">add</text>\n",
       "</g>\n",
       "<!-- 21&#45;&gt;22 -->\n",
       "<g id=\"edge13\" class=\"edge\">\n",
       "<title>21&#45;&gt;22</title>\n",
       "<path fill=\"none\" stroke=\"black\" d=\"M176.73,-287.7C176.73,-280.24 176.73,-271.32 176.73,-262.97\"/>\n",
       "<polygon fill=\"black\" stroke=\"black\" points=\"180.23,-263.1 176.73,-253.1 173.23,-263.1 180.23,-263.1\"/>\n",
       "</g>\n",
       "<!-- 25 -->\n",
       "<g id=\"node26\" class=\"node\">\n",
       "<title>25</title>\n",
       "<ellipse fill=\"#60a6f6\" stroke=\"black\" cx=\"254.73\" cy=\"-234\" rx=\"32.6\" ry=\"18\"/>\n",
       "<text text-anchor=\"middle\" x=\"254.73\" y=\"-227.82\" font-family=\"Times,serif\" font-size=\"14.00\">&#45;0.684</text>\n",
       "</g>\n",
       "<!-- 21&#45;&gt;25 -->\n",
       "<g id=\"edge12\" class=\"edge\">\n",
       "<title>21&#45;&gt;25</title>\n",
       "<path fill=\"none\" stroke=\"black\" d=\"M192.14,-291.17C202.97,-281.46 217.67,-268.26 230.11,-257.1\"/>\n",
       "<polygon fill=\"black\" stroke=\"black\" points=\"232.17,-260.05 237.28,-250.77 227.5,-254.84 232.17,-260.05\"/>\n",
       "</g>\n",
       "<!-- 23 -->\n",
       "<g id=\"node24\" class=\"node\">\n",
       "<title>23</title>\n",
       "<ellipse fill=\"#60a6f6\" stroke=\"black\" cx=\"176.73\" cy=\"-162\" rx=\"27\" ry=\"18\"/>\n",
       "<text text-anchor=\"middle\" x=\"176.73\" y=\"-155.82\" font-family=\"Times,serif\" font-size=\"14.00\">X0</text>\n",
       "</g>\n",
       "<!-- 22&#45;&gt;23 -->\n",
       "<g id=\"edge11\" class=\"edge\">\n",
       "<title>22&#45;&gt;23</title>\n",
       "<path fill=\"none\" stroke=\"black\" d=\"M176.73,-215.7C176.73,-208.24 176.73,-199.32 176.73,-190.97\"/>\n",
       "<polygon fill=\"black\" stroke=\"black\" points=\"180.23,-191.1 176.73,-181.1 173.23,-191.1 180.23,-191.1\"/>\n",
       "</g>\n",
       "<!-- 24 -->\n",
       "<g id=\"node25\" class=\"node\">\n",
       "<title>24</title>\n",
       "<ellipse fill=\"#60a6f6\" stroke=\"black\" cx=\"254.73\" cy=\"-162\" rx=\"32.6\" ry=\"18\"/>\n",
       "<text text-anchor=\"middle\" x=\"254.73\" y=\"-155.82\" font-family=\"Times,serif\" font-size=\"14.00\">&#45;0.684</text>\n",
       "</g>\n",
       "<!-- 22&#45;&gt;24 -->\n",
       "<g id=\"edge10\" class=\"edge\">\n",
       "<title>22&#45;&gt;24</title>\n",
       "<path fill=\"none\" stroke=\"black\" d=\"M192.14,-219.17C202.97,-209.46 217.67,-196.26 230.11,-185.1\"/>\n",
       "<polygon fill=\"black\" stroke=\"black\" points=\"232.17,-188.05 237.28,-178.77 227.5,-182.84 232.17,-188.05\"/>\n",
       "</g>\n",
       "<!-- 27 -->\n",
       "<g id=\"node28\" class=\"node\">\n",
       "<title>27</title>\n",
       "<ellipse fill=\"#60a6f6\" stroke=\"black\" cx=\"248.73\" cy=\"-306\" rx=\"27\" ry=\"18\"/>\n",
       "<text text-anchor=\"middle\" x=\"248.73\" y=\"-299.82\" font-family=\"Times,serif\" font-size=\"14.00\">X0</text>\n",
       "</g>\n",
       "<!-- 26&#45;&gt;27 -->\n",
       "<g id=\"edge17\" class=\"edge\">\n",
       "<title>26&#45;&gt;27</title>\n",
       "<path fill=\"none\" stroke=\"black\" d=\"M248.73,-359.7C248.73,-352.24 248.73,-343.32 248.73,-334.97\"/>\n",
       "<polygon fill=\"black\" stroke=\"black\" points=\"252.23,-335.1 248.73,-325.1 245.23,-335.1 252.23,-335.1\"/>\n",
       "</g>\n",
       "<!-- 28 -->\n",
       "<g id=\"node29\" class=\"node\">\n",
       "<title>28</title>\n",
       "<ellipse fill=\"#60a6f6\" stroke=\"black\" cx=\"326.73\" cy=\"-306\" rx=\"32.6\" ry=\"18\"/>\n",
       "<text text-anchor=\"middle\" x=\"326.73\" y=\"-299.82\" font-family=\"Times,serif\" font-size=\"14.00\">&#45;0.684</text>\n",
       "</g>\n",
       "<!-- 26&#45;&gt;28 -->\n",
       "<g id=\"edge16\" class=\"edge\">\n",
       "<title>26&#45;&gt;28</title>\n",
       "<path fill=\"none\" stroke=\"black\" d=\"M264.14,-363.17C274.97,-353.46 289.67,-340.26 302.11,-329.1\"/>\n",
       "<polygon fill=\"black\" stroke=\"black\" points=\"304.17,-332.05 309.28,-322.77 299.5,-326.84 304.17,-332.05\"/>\n",
       "</g>\n",
       "<!-- 30 -->\n",
       "<g id=\"node31\" class=\"node\">\n",
       "<title>30</title>\n",
       "<ellipse fill=\"#136ed4\" stroke=\"black\" cx=\"284.73\" cy=\"-594\" rx=\"27\" ry=\"18\"/>\n",
       "<text text-anchor=\"middle\" x=\"284.73\" y=\"-587.83\" font-family=\"Times,serif\" font-size=\"14.00\">add</text>\n",
       "</g>\n",
       "<!-- 29&#45;&gt;30 -->\n",
       "<g id=\"edge27\" class=\"edge\">\n",
       "<title>29&#45;&gt;30</title>\n",
       "<path fill=\"none\" stroke=\"black\" d=\"M284.73,-647.7C284.73,-640.24 284.73,-631.32 284.73,-622.97\"/>\n",
       "<polygon fill=\"black\" stroke=\"black\" points=\"288.23,-623.1 284.73,-613.1 281.23,-623.1 288.23,-623.1\"/>\n",
       "</g>\n",
       "<!-- 33 -->\n",
       "<g id=\"node34\" class=\"node\">\n",
       "<title>33</title>\n",
       "<ellipse fill=\"#60a6f6\" stroke=\"black\" cx=\"362.73\" cy=\"-594\" rx=\"32.6\" ry=\"18\"/>\n",
       "<text text-anchor=\"middle\" x=\"362.73\" y=\"-587.83\" font-family=\"Times,serif\" font-size=\"14.00\">&#45;0.684</text>\n",
       "</g>\n",
       "<!-- 29&#45;&gt;33 -->\n",
       "<g id=\"edge26\" class=\"edge\">\n",
       "<title>29&#45;&gt;33</title>\n",
       "<path fill=\"none\" stroke=\"black\" d=\"M300.14,-651.17C310.97,-641.46 325.67,-628.26 338.11,-617.1\"/>\n",
       "<polygon fill=\"black\" stroke=\"black\" points=\"340.17,-620.05 345.28,-610.77 335.5,-614.84 340.17,-620.05\"/>\n",
       "</g>\n",
       "<!-- 31 -->\n",
       "<g id=\"node32\" class=\"node\">\n",
       "<title>31</title>\n",
       "<ellipse fill=\"#60a6f6\" stroke=\"black\" cx=\"284.73\" cy=\"-522\" rx=\"27\" ry=\"18\"/>\n",
       "<text text-anchor=\"middle\" x=\"284.73\" y=\"-515.83\" font-family=\"Times,serif\" font-size=\"14.00\">X0</text>\n",
       "</g>\n",
       "<!-- 30&#45;&gt;31 -->\n",
       "<g id=\"edge25\" class=\"edge\">\n",
       "<title>30&#45;&gt;31</title>\n",
       "<path fill=\"none\" stroke=\"black\" d=\"M284.73,-575.7C284.73,-568.24 284.73,-559.32 284.73,-550.97\"/>\n",
       "<polygon fill=\"black\" stroke=\"black\" points=\"288.23,-551.1 284.73,-541.1 281.23,-551.1 288.23,-551.1\"/>\n",
       "</g>\n",
       "<!-- 32 -->\n",
       "<g id=\"node33\" class=\"node\">\n",
       "<title>32</title>\n",
       "<ellipse fill=\"#60a6f6\" stroke=\"black\" cx=\"362.73\" cy=\"-522\" rx=\"32.6\" ry=\"18\"/>\n",
       "<text text-anchor=\"middle\" x=\"362.73\" y=\"-515.83\" font-family=\"Times,serif\" font-size=\"14.00\">&#45;0.684</text>\n",
       "</g>\n",
       "<!-- 30&#45;&gt;32 -->\n",
       "<g id=\"edge24\" class=\"edge\">\n",
       "<title>30&#45;&gt;32</title>\n",
       "<path fill=\"none\" stroke=\"black\" d=\"M300.14,-579.17C310.97,-569.46 325.67,-556.26 338.11,-545.1\"/>\n",
       "<polygon fill=\"black\" stroke=\"black\" points=\"340.17,-548.05 345.28,-538.77 335.5,-542.84 340.17,-548.05\"/>\n",
       "</g>\n",
       "<!-- 35 -->\n",
       "<g id=\"node36\" class=\"node\">\n",
       "<title>35</title>\n",
       "<ellipse fill=\"#60a6f6\" stroke=\"black\" cx=\"356.73\" cy=\"-666\" rx=\"27\" ry=\"18\"/>\n",
       "<text text-anchor=\"middle\" x=\"356.73\" y=\"-659.83\" font-family=\"Times,serif\" font-size=\"14.00\">X0</text>\n",
       "</g>\n",
       "<!-- 34&#45;&gt;35 -->\n",
       "<g id=\"edge31\" class=\"edge\">\n",
       "<title>34&#45;&gt;35</title>\n",
       "<path fill=\"none\" stroke=\"black\" d=\"M356.73,-719.7C356.73,-712.24 356.73,-703.32 356.73,-694.97\"/>\n",
       "<polygon fill=\"black\" stroke=\"black\" points=\"360.23,-695.1 356.73,-685.1 353.23,-695.1 360.23,-695.1\"/>\n",
       "</g>\n",
       "<!-- 36 -->\n",
       "<g id=\"node37\" class=\"node\">\n",
       "<title>36</title>\n",
       "<ellipse fill=\"#60a6f6\" stroke=\"black\" cx=\"434.73\" cy=\"-666\" rx=\"32.6\" ry=\"18\"/>\n",
       "<text text-anchor=\"middle\" x=\"434.73\" y=\"-659.83\" font-family=\"Times,serif\" font-size=\"14.00\">&#45;0.684</text>\n",
       "</g>\n",
       "<!-- 34&#45;&gt;36 -->\n",
       "<g id=\"edge30\" class=\"edge\">\n",
       "<title>34&#45;&gt;36</title>\n",
       "<path fill=\"none\" stroke=\"black\" d=\"M372.14,-723.17C382.97,-713.46 397.67,-700.26 410.11,-689.1\"/>\n",
       "<polygon fill=\"black\" stroke=\"black\" points=\"412.17,-692.05 417.28,-682.77 407.5,-686.84 412.17,-692.05\"/>\n",
       "</g>\n",
       "</g>\n",
       "</svg>\n"
      ],
      "text/plain": [
       "<graphviz.sources.Source at 0x7f421cd97940>"
      ]
     },
     "execution_count": 50,
     "metadata": {},
     "output_type": "execute_result"
    }
   ],
   "source": [
    "#visual representation of suggested equation\n",
    "from sklearn.datasets import load_iris\n",
    "from sklearn import tree\n",
    "import collections\n",
    "\n",
    "dot_data = model._program.export_graphviz()\n",
    "graph = graphviz.Source(dot_data)\n",
    "graph"
   ]
  },
  {
   "cell_type": "code",
   "execution_count": 23,
   "id": "f52de3c0-0be2-4853-b5f0-32cfa135e510",
   "metadata": {
    "tags": []
   },
   "outputs": [
    {
     "name": "stdout",
     "output_type": "stream",
     "text": [
      "the r^2 score is 0.17525928940945568\n"
     ]
    },
    {
     "data": {
      "image/png": "[encoded data removed]",
      "text/plain": [
       "<Figure size 640x480 with 1 Axes>"
      ]
     },
     "metadata": {},
     "output_type": "display_data"
    }
   ],
   "source": [
    "#plotting y prediction vs actual y values to visualize the difference\n",
    "plt.scatter(X_test[:,46], y_test[:,46],label = \"Truth\")\n",
    "plt.scatter(X_test[:,46],y_predict, color = \"red\", label = \"Prediction\")\n",
    "plt.xlabel(\"dq/dz\")\n",
    "plt.ylabel(\"Moisture Flux\")\n",
    "plt.suptitle(\"Prediction of water vapor flux\")\n",
    "plt.legend()\n",
    "print(f'the r^2 score is {score}')"
   ]
  },
  {
   "cell_type": "code",
   "execution_count": 24,
   "id": "c11d2794-8c91-42d9-83b1-86e71bce7a3c",
   "metadata": {
    "tags": []
   },
   "outputs": [
    {
     "data": {
      "text/plain": [
       "((737,), (737,))"
      ]
     },
     "execution_count": 24,
     "metadata": {},
     "output_type": "execute_result"
    }
   ],
   "source": [
    "#testing shapes of prediction and reality\n",
    "y_predict.shape,y_test[:,46].reshape(-1,1).ravel().shape"
   ]
  },
  {
   "cell_type": "markdown",
   "id": "db25a2dd-f95f-4626-81bd-7bbe1c971041",
   "metadata": {},
   "source": [
    "### finding difference in predict - reality"
   ]
  },
  {
   "cell_type": "code",
   "execution_count": 25,
   "id": "debea410-9329-4a9e-a3b7-1393661561c2",
   "metadata": {
    "tags": []
   },
   "outputs": [],
   "source": [
    "#finding difference in prediction - reality\n",
    "pierre_y = y_test[:,46].reshape(-1,1).ravel()\n",
    "predict_y = y_predict \n",
    "difference = pierre_y - predict_y"
   ]
  },
  {
   "cell_type": "code",
   "execution_count": 26,
   "id": "675d9be2-f184-4d0e-86fb-a9ab379d9d35",
   "metadata": {
    "tags": []
   },
   "outputs": [
    {
     "data": {
      "text/plain": [
       "0.6613695454197728"
      ]
     },
     "execution_count": 26,
     "metadata": {},
     "output_type": "execute_result"
    }
   ],
   "source": [
    "mae(pierre_y, predict_y)"
   ]
  },
  {
   "cell_type": "code",
   "execution_count": 27,
   "id": "e0224fad-03ac-4671-9330-5167c9137d14",
   "metadata": {
    "tags": []
   },
   "outputs": [
    {
     "data": {
      "text/plain": [
       "(-2.932035095819094,\n",
       " 4.766003575652546,\n",
       " 0.05534949681094268,\n",
       " 0.9282250132165871)"
      ]
     },
     "execution_count": 27,
     "metadata": {},
     "output_type": "execute_result"
    }
   ],
   "source": [
    "difference.min(), difference.max(), difference.mean(), difference.std()"
   ]
  },
  {
   "cell_type": "markdown",
   "id": "d580eea7-97b9-42b0-8e72-31b566e30369",
   "metadata": {},
   "source": [
    "# Training model, running it for each layer"
   ]
  },
  {
   "cell_type": "code",
   "execution_count": 28,
   "id": "4d4ca11f-afcd-4d80-bdd1-3cdee922f93f",
   "metadata": {
    "tags": []
   },
   "outputs": [],
   "source": [
    "model = SymbolicRegressor(function_set = ('add','sub','mul','log','inv'),generations=45, \n",
    "                          tournament_size=20, random_state=42,stopping_criteria=0.01,verbose = 1,\n",
    "                          max_samples=0.9, metric = 'mean absolute error'\n",
    "                            )"
   ]
  },
  {
   "cell_type": "code",
   "execution_count": 29,
   "id": "83a1adbb-1b3f-45d5-b4d5-e9ea3ff8178f",
   "metadata": {
    "tags": []
   },
   "outputs": [
    {
     "name": "stdout",
     "output_type": "stream",
     "text": [
      "    |   Population Average    |             Best Individual              |\n",
      "---- ------------------------- ------------------------------------------ ----------\n",
      " Gen   Length          Fitness   Length          Fitness      OOB Fitness  Time Left\n",
      "   0    20.26          98.5859       28         0.643364         0.721045     47.32s\n",
      "   1    10.71          2.32644        7         0.631116         0.753172     37.50s\n",
      "   2     8.98          4.49272       42         0.626276         0.721205     34.39s\n",
      "   3     7.54          1.59963       16         0.617252          0.70994     32.50s\n",
      "   4     6.16          1.57246       16          0.61902         0.694079     33.72s\n",
      "   5     5.79          1.42885       16         0.617174         0.710696     29.11s\n",
      "   6     6.02          1.21675       18         0.614359         0.674004     28.74s\n",
      "   7     7.87          1.08103        9         0.610337         0.756523     29.76s\n",
      "   8    11.19          1.40831       13         0.598742         0.718612     31.50s\n",
      "   9    12.69          1.61831       26         0.590398         0.658717     32.00s\n",
      "  10    12.92          1.77253       26         0.587628          0.68355     31.52s\n",
      "  11    12.93          1.57462       25         0.590002         0.751496     30.89s\n",
      "  12    13.34          1.71628       16         0.576512         0.668958     30.27s\n",
      "  13    11.89          1.80074       19         0.567479           0.5965     28.21s\n",
      "  14    12.34          1.56284       19         0.568851         0.584202     27.62s\n",
      "  15    14.11           1.5661       19         0.560024         0.663348     28.13s\n",
      "  16    16.42          1.50174       20         0.553775         0.663209     28.12s\n",
      "  17    17.81          1.50859       17         0.548056         0.688124     27.97s\n",
      "  18    17.77          1.48447       28         0.546178         0.705046     27.28s\n",
      "  19    17.20          1.46095       19         0.540893         0.646196     25.49s\n",
      "  20    16.31          1.55962       17         0.547235         0.695484     24.53s\n",
      "  21    16.10          1.55124       17         0.544657         0.596307     23.82s\n",
      "  22    16.66          1.53735       17         0.544766         0.664737     24.55s\n",
      "  23    16.32          1.56089       17         0.540287         0.635488     21.41s\n",
      "  24    16.18          1.66996       17         0.535531         0.678136     20.40s\n",
      "  25    16.38           1.7423       17          0.53374         0.694192     19.49s\n",
      "  26    17.04          1.67594       22          0.53094         0.696827     18.62s\n",
      "  27    17.63          1.69675       17         0.536106         0.672981     17.80s\n",
      "  28    17.45          1.75945       17         0.534268         0.689457     16.60s\n",
      "  29    17.59          1.76365       17         0.536934         0.665558     15.52s\n",
      "  30    17.15          1.69818       22         0.531308         0.693526     14.53s\n",
      "  31    17.32          1.76068       17         0.534626         0.686253     13.48s\n",
      "  32    17.07          1.65118       17          0.53729         0.662365     12.49s\n",
      "  33    17.48          1.72775       17         0.532673         0.703766     11.47s\n",
      "  34    17.26          1.69894       31         0.532583         0.751477     10.46s\n",
      "  35    17.69          1.69748       17         0.531622         0.713182      9.38s\n",
      "  36    17.11          1.71253       17          0.53646          0.66981      8.30s\n",
      "  37    17.40           1.6461       17         0.532624         0.704204      7.29s\n",
      "  38    16.98          1.57796       17         0.532984         0.700975      6.18s\n",
      "  39    17.14          1.67193       17         0.536103         0.673008      5.15s\n",
      "  40    17.25          1.67522       31         0.537476         0.707608      4.20s\n",
      "  41    17.37          1.73205       17         0.533878         0.692956      3.40s\n",
      "  42    17.27           1.7393       17         0.537344          0.66188      2.08s\n",
      "  43    17.23          1.73172       22         0.528983         0.714373      1.05s\n",
      "  44    17.49          1.70208       22         0.532238          0.68518      0.00s\n",
      "\n",
      "inv(add(inv(add(add(log(-0.398), X0), add(add(log(-0.398), X0), add(-0.398, X0)))), add(log(-0.398), add(-0.398, X0))))\n",
      "\n",
      "0.532238414135944\n",
      "\n",
      "    |   Population Average    |             Best Individual              |\n",
      "---- ------------------------- ------------------------------------------ ----------\n",
      " Gen   Length          Fitness   Length          Fitness      OOB Fitness  Time Left\n",
      "   0    20.26          467.332        7         0.678894         0.754338     46.90s\n",
      "   1    10.60          2.27727        7         0.678593         0.757039     37.20s\n",
      "   2     8.06          1.90865       11         0.650967         0.715225     34.71s\n",
      "   3     8.20          2.22244       11         0.656818         0.662769     34.07s\n",
      "   4     8.33          1.82073       11         0.648083         0.737215     33.48s\n",
      "   5     9.48          1.94291       11         0.645613         0.759359     34.10s\n",
      "   6    10.55          2.16806       17         0.640158         0.658928     33.47s\n",
      "   7    10.84          2.04997       25         0.631645         0.625703     33.44s\n",
      "   8    11.21          2.07504       25         0.618944          0.73959     32.34s\n",
      "   9    12.79          1.91387       29         0.616578         0.706914     33.00s\n",
      "  10    16.80          1.75504       22         0.604603         0.723504     35.52s\n",
      "  11    18.73          1.64168       45         0.607091         0.646866     36.27s\n",
      "  12    18.59          1.63921       43         0.586138         0.693942     35.20s\n",
      "  13    19.59          1.81028       34         0.590856         0.615649     34.49s\n",
      "  14    21.46          1.92308       25         0.589846          0.70993     34.03s\n",
      "  15    23.27          1.86153       27         0.582065         0.636378     36.31s\n",
      "  16    24.58          1.88701       27         0.580255         0.652608     32.90s\n",
      "  17    26.95          1.82684       43         0.570815         0.717172     33.19s\n",
      "  18    27.79          1.71636       34         0.578532         0.755315     32.38s\n",
      "  19    28.24          1.78028       34         0.574558         0.761783     31.24s\n",
      "  20    26.99           1.7975       27         0.576515          0.68614     29.64s\n",
      "  21    26.29          1.83521       45          0.57538         0.661651     28.30s\n",
      "  22    27.32          1.79556       43         0.569451         0.683713     27.76s\n",
      "  23    27.08          1.90381       47         0.571806         0.673384     26.45s\n",
      "  24    25.94           1.9199       41         0.567707         0.710255     24.52s\n",
      "  25    25.34          1.90952       39         0.571063         0.669259     22.92s\n",
      "  26    25.40          1.78674       25         0.567334         0.768465     21.41s\n",
      "  27    26.16          1.70233       25         0.572165         0.725142     20.57s\n",
      "  28    25.29          1.76756       39         0.567549         0.711677     18.96s\n",
      "  29    25.67          1.80995       37         0.570498         0.651913     18.08s\n",
      "  30    24.69          1.84747       41          0.57281         0.684695     16.31s\n",
      "  31    24.43           1.8749       37         0.568448         0.670296     15.21s\n",
      "  32    24.15          1.89111       37         0.567224         0.681269     13.83s\n",
      "  33    24.42          1.84871       23         0.571861         0.727872     12.63s\n",
      "  34    24.21           1.9385       35         0.569008         0.665277     12.27s\n",
      "  35    24.33          1.84254       23         0.571378         0.732198     10.24s\n",
      "  36    23.50          1.67634       39         0.570982         0.701079      9.01s\n",
      "  37    23.43          1.91557       43         0.569634         0.692856      7.82s\n",
      "  38    22.81          1.81635       39         0.571554          0.69595      6.65s\n",
      "  39    22.64          1.85668       37         0.570593         0.684382      5.48s\n",
      "  40    23.19          1.78509       33         0.570242         0.664642      4.44s\n",
      "  41    23.67          1.97171       23         0.571212         0.733688      3.34s\n",
      "  42    23.45          1.74186       33         0.574402         0.627344      2.23s\n",
      "  43    23.33          1.81934       33         0.571835         0.650361      1.11s\n",
      "  44    23.47          1.87371       37         0.566728         0.719031      0.00s\n",
      "\n",
      "add(-0.237, inv(add(add(inv(add(-0.237, inv(add(add(inv(add(inv(log(0.034)), add(add(X0, -0.684), X0))), add(add(X0, -0.684), -0.684)), add(X0, -0.684))))), add(add(X0, -0.684), -0.684)), add(X0, -0.684))))\n",
      "\n",
      "0.5667284980418597\n",
      "\n",
      "    |   Population Average    |             Best Individual              |\n",
      "---- ------------------------- ------------------------------------------ ----------\n",
      " Gen   Length          Fitness   Length          Fitness      OOB Fitness  Time Left\n",
      "   0    20.26          167.714        7         0.725334          0.79507     47.30s\n",
      "   1    10.51          2.35929       25         0.708319         0.763606     37.39s\n",
      "   2     6.71          2.00871       26         0.701046         0.758951     33.67s\n",
      "   3     8.85          2.34495       27         0.693074         0.757188     34.54s\n",
      "   4    11.85          1.94646       25         0.671001         0.686903     35.57s\n",
      "   5    14.95          1.99152       31         0.643714         0.665024     37.25s\n",
      "   6    20.14          1.53725       38          0.63909         0.631493     40.01s\n",
      "   7    25.46          1.09908       50         0.631068         0.666056     43.08s\n",
      "   8    24.03          1.18426       13         0.631536         0.770844     44.07s\n",
      "   9    22.09          1.24915       32         0.633101         0.731769     38.11s\n",
      "  10    18.61           1.5427       38         0.628843         0.759105     34.20s\n",
      "  11    14.80          1.55225       29         0.632686         0.662108     29.86s\n",
      "  12    13.22          1.54243       26         0.624549         0.633302     28.22s\n",
      "  13    12.88          1.78778       26         0.625264         0.626892     27.03s\n",
      "  14    12.92          1.53008       26          0.61175          0.74806     26.34s\n",
      "  15    13.69          1.65347       17         0.615756         0.759865     26.22s\n",
      "  16    15.61          1.49883       26         0.616692         0.703748     25.99s\n",
      "  17    16.41          1.40785       39         0.612811         0.730413     25.50s\n",
      "  18    16.16          1.54428       19         0.614879          0.77659     24.11s\n",
      "  19    16.33          1.53822       17         0.615326         0.763721     23.23s\n",
      "  20    16.05          1.55165       17         0.614603         0.770206     21.94s\n",
      "  21    16.73          1.59497       21         0.616348         0.718941     21.40s\n",
      "  22    17.57          1.49113       21         0.616679         0.715974     20.50s\n",
      "  23    17.98          1.61037       17          0.61362         0.779021     19.53s\n",
      "  24    17.50            1.636       21         0.614276         0.737524     18.45s\n",
      "  25    17.32           1.5805       17         0.613058         0.784058     17.60s\n",
      "  26    18.15          1.57119       21         0.612808         0.750684     16.71s\n",
      "  27    18.47          1.53141       21         0.607865         0.795007     17.23s\n",
      "  28    18.06          1.54499       17         0.614198         0.773834     14.78s\n",
      "  29    18.34          1.61569       21         0.610809         0.768605     14.11s\n",
      "  30    17.98           1.6843       17         0.613856         0.776904     13.03s\n",
      "  31    18.26          1.75208       17         0.612116         0.792508     12.16s\n",
      "  32    17.74          1.54684       17          0.61123         0.800444     11.24s\n",
      "  33    18.60          1.55424       29         0.610922         0.800085     10.37s\n",
      "  34    18.92          1.54554       21          0.61338         0.745558      9.52s\n",
      "  35    18.69          1.41894       29         0.615333          0.76054      8.46s\n",
      "  36    18.15          1.51646       21         0.611852          0.75926      7.50s\n",
      "  37    18.61          1.66144       17         0.613066         0.783981      6.60s\n",
      "  38    18.44          1.52713       21         0.611861         0.759176      5.63s\n",
      "  39    18.08          1.72818       21         0.615461           0.7269      4.73s\n",
      "  40    18.33          1.73108       25         0.615442         0.813058      3.77s\n",
      "  41    18.50          1.60672       21         0.608545         0.788914      2.85s\n",
      "  42    18.22          1.60109       21         0.614811         0.732723      1.86s\n",
      "  43    18.19          1.82079       21         0.613931         0.740612      0.93s\n",
      "  44    17.84          1.56447       21         0.612092         0.757102      0.00s\n",
      "\n",
      "inv(add(inv(add(add(X0, add(add(X0, add(X0, -0.684)), -0.684)), add(X0, -0.684))), add(X0, add(X0, -0.684))))\n",
      "\n",
      "0.6120923371352764\n",
      "\n"
     ]
    },
    {
     "data": {
      "image/png": "[encoded data removed]",
      "text/plain": [
       "<Figure size 640x480 with 1 Axes>"
      ]
     },
     "metadata": {},
     "output_type": "display_data"
    },
    {
     "data": {
      "image/png": "[encoded data removed]",
      "text/plain": [
       "<Figure size 640x480 with 1 Axes>"
      ]
     },
     "metadata": {},
     "output_type": "display_data"
    },
    {
     "data": {
      "image/png": "[encoded data removed]",
      "text/plain": [
       "<Figure size 640x480 with 1 Axes>"
      ]
     },
     "metadata": {},
     "output_type": "display_data"
    }
   ],
   "source": [
    "#running symbolic regression\n",
    "for lev in range(44,47):\n",
    "    model.fit(X_train[:,lev].reshape(-1,1), y_train[:,lev].ravel())\n",
    "    y_predict = model.predict(X_test[:,lev].reshape(-1,1))\n",
    "    score = model.score(X_test[:,lev].reshape(-1,1), y_test[:,lev].reshape(-1,1))\n",
    "    print()\n",
    "    print(model._program)\n",
    "    print()\n",
    "    print(model._program.raw_fitness_)\n",
    "    # pierre_y = y_test[:,lev].reshape(-1,1).ravel()\n",
    "    # print(f' The MAE is {mae(pierre_y, predict_y)}')\n",
    "    \n",
    "\n",
    "    #plotting\n",
    "    fig, ax = plt.subplots()\n",
    "    ax.scatter(x_norm[:,lev], y_norm[:,lev], label = \"Truth\",color = 'purple') #plot all datapoints for given level\n",
    "    ax.scatter(X_test[:,lev],y_predict, color = \"grey\", label = \"Prediction\") #plot just test datapoints and the prediction\n",
    "    plt.xlabel(\"Vertical Gradient of Moisture (dq/dz)\")\n",
    "    plt.ylabel(\"Moisture Flux (w'q')\")\n",
    "    ax.legend()\n",
    "    ax.text(-4,-4, f'the r^2 score is {score: .4f}')\n",
    "    print()\n",
    "    \n",
    "    if lev == 44:\n",
    "        fig.suptitle(f\"Prediction of Moisture Flux at ~723 meters\")\n",
    "    elif lev == 45:\n",
    "        fig.suptitle(f\"Prediction of Moisture Flux at ~447 meters\")\n",
    "    elif lev == 46:\n",
    "        fig.suptitle(f\"Prediction of Moisture Flux at ~206 meters\")\n",
    "        \n",
    "    #print(f'the r^2 score is {score}')\n",
    "    \n"
   ]
  },
  {
   "cell_type": "code",
   "execution_count": 30,
   "id": "67350bd1-2373-448a-8d82-89fb0483819f",
   "metadata": {
    "tags": []
   },
   "outputs": [
    {
     "data": {
      "image/svg+xml": [
       "<?xml version=\"1.0\" encoding=\"UTF-8\" standalone=\"no\"?>\n",
       "<!DOCTYPE svg PUBLIC \"-//W3C//DTD SVG 1.1//EN\"\n",
       " \"http://www.w3.org/Graphics/SVG/1.1/DTD/svg11.dtd\">\n",
       "<!-- Generated by graphviz version 8.0.5 (20230506.1012)\n",
       " -->\n",
       "<!-- Title: program Pages: 1 -->\n",
       "<svg width=\"401pt\" height=\"620pt\"\n",
       " viewBox=\"0.00 0.00 400.60 620.00\" xmlns=\"http://www.w3.org/2000/svg\" xmlns:xlink=\"http://www.w3.org/1999/xlink\">\n",
       "<g id=\"graph0\" class=\"graph\" transform=\"scale(1 1) rotate(0) translate(4 616)\">\n",
       "<title>program</title>\n",
       "<polygon fill=\"white\" stroke=\"none\" points=\"-4,4 -4,-616 396.6,-616 396.6,4 -4,4\"/>\n",
       "<!-- 0 -->\n",
       "<g id=\"node1\" class=\"node\">\n",
       "<title>0</title>\n",
       "<ellipse fill=\"#136ed4\" stroke=\"black\" cx=\"192\" cy=\"-594\" rx=\"27\" ry=\"18\"/>\n",
       "<text text-anchor=\"middle\" x=\"192\" y=\"-587.83\" font-family=\"Times,serif\" font-size=\"14.00\">inv</text>\n",
       "</g>\n",
       "<!-- 1 -->\n",
       "<g id=\"node2\" class=\"node\">\n",
       "<title>1</title>\n",
       "<ellipse fill=\"#136ed4\" stroke=\"black\" cx=\"192\" cy=\"-522\" rx=\"27\" ry=\"18\"/>\n",
       "<text text-anchor=\"middle\" x=\"192\" y=\"-515.83\" font-family=\"Times,serif\" font-size=\"14.00\">add</text>\n",
       "</g>\n",
       "<!-- 0&#45;&gt;1 -->\n",
       "<g id=\"edge20\" class=\"edge\">\n",
       "<title>0&#45;&gt;1</title>\n",
       "<path fill=\"none\" stroke=\"black\" d=\"M192,-575.7C192,-568.24 192,-559.32 192,-550.97\"/>\n",
       "<polygon fill=\"black\" stroke=\"black\" points=\"195.5,-551.1 192,-541.1 188.5,-551.1 195.5,-551.1\"/>\n",
       "</g>\n",
       "<!-- 2 -->\n",
       "<g id=\"node3\" class=\"node\">\n",
       "<title>2</title>\n",
       "<ellipse fill=\"#136ed4\" stroke=\"black\" cx=\"156\" cy=\"-450\" rx=\"27\" ry=\"18\"/>\n",
       "<text text-anchor=\"middle\" x=\"156\" y=\"-443.82\" font-family=\"Times,serif\" font-size=\"14.00\">inv</text>\n",
       "</g>\n",
       "<!-- 1&#45;&gt;2 -->\n",
       "<g id=\"edge19\" class=\"edge\">\n",
       "<title>1&#45;&gt;2</title>\n",
       "<path fill=\"none\" stroke=\"black\" d=\"M183.65,-504.76C179.38,-496.46 174.08,-486.15 169.27,-476.79\"/>\n",
       "<polygon fill=\"black\" stroke=\"black\" points=\"171.99,-475.44 164.3,-468.15 165.77,-478.64 171.99,-475.44\"/>\n",
       "</g>\n",
       "<!-- 16 -->\n",
       "<g id=\"node17\" class=\"node\">\n",
       "<title>16</title>\n",
       "<ellipse fill=\"#136ed4\" stroke=\"black\" cx=\"228\" cy=\"-450\" rx=\"27\" ry=\"18\"/>\n",
       "<text text-anchor=\"middle\" x=\"228\" y=\"-443.82\" font-family=\"Times,serif\" font-size=\"14.00\">add</text>\n",
       "</g>\n",
       "<!-- 1&#45;&gt;16 -->\n",
       "<g id=\"edge18\" class=\"edge\">\n",
       "<title>1&#45;&gt;16</title>\n",
       "<path fill=\"none\" stroke=\"black\" d=\"M200.35,-504.76C204.62,-496.46 209.92,-486.15 214.73,-476.79\"/>\n",
       "<polygon fill=\"black\" stroke=\"black\" points=\"218.23,-478.64 219.7,-468.15 212.01,-475.44 218.23,-478.64\"/>\n",
       "</g>\n",
       "<!-- 3 -->\n",
       "<g id=\"node4\" class=\"node\">\n",
       "<title>3</title>\n",
       "<ellipse fill=\"#136ed4\" stroke=\"black\" cx=\"156\" cy=\"-378\" rx=\"27\" ry=\"18\"/>\n",
       "<text text-anchor=\"middle\" x=\"156\" y=\"-371.82\" font-family=\"Times,serif\" font-size=\"14.00\">add</text>\n",
       "</g>\n",
       "<!-- 2&#45;&gt;3 -->\n",
       "<g id=\"edge13\" class=\"edge\">\n",
       "<title>2&#45;&gt;3</title>\n",
       "<path fill=\"none\" stroke=\"black\" d=\"M156,-431.7C156,-424.24 156,-415.32 156,-406.97\"/>\n",
       "<polygon fill=\"black\" stroke=\"black\" points=\"159.5,-407.1 156,-397.1 152.5,-407.1 159.5,-407.1\"/>\n",
       "</g>\n",
       "<!-- 4 -->\n",
       "<g id=\"node5\" class=\"node\">\n",
       "<title>4</title>\n",
       "<ellipse fill=\"#136ed4\" stroke=\"black\" cx=\"102\" cy=\"-306\" rx=\"27\" ry=\"18\"/>\n",
       "<text text-anchor=\"middle\" x=\"102\" y=\"-299.82\" font-family=\"Times,serif\" font-size=\"14.00\">add</text>\n",
       "</g>\n",
       "<!-- 3&#45;&gt;4 -->\n",
       "<g id=\"edge12\" class=\"edge\">\n",
       "<title>3&#45;&gt;4</title>\n",
       "<path fill=\"none\" stroke=\"black\" d=\"M144.02,-361.46C137.09,-352.49 128.24,-341.02 120.45,-330.92\"/>\n",
       "<polygon fill=\"black\" stroke=\"black\" points=\"122.83,-329.27 113.95,-323.49 117.29,-333.55 122.83,-329.27\"/>\n",
       "</g>\n",
       "<!-- 13 -->\n",
       "<g id=\"node14\" class=\"node\">\n",
       "<title>13</title>\n",
       "<ellipse fill=\"#136ed4\" stroke=\"black\" cx=\"174\" cy=\"-306\" rx=\"27\" ry=\"18\"/>\n",
       "<text text-anchor=\"middle\" x=\"174\" y=\"-299.82\" font-family=\"Times,serif\" font-size=\"14.00\">add</text>\n",
       "</g>\n",
       "<!-- 3&#45;&gt;13 -->\n",
       "<g id=\"edge11\" class=\"edge\">\n",
       "<title>3&#45;&gt;13</title>\n",
       "<path fill=\"none\" stroke=\"black\" d=\"M160.36,-360.05C162.35,-352.32 164.75,-342.96 166.99,-334.27\"/>\n",
       "<polygon fill=\"black\" stroke=\"black\" points=\"170.58,-335.35 169.68,-324.79 163.8,-333.6 170.58,-335.35\"/>\n",
       "</g>\n",
       "<!-- 5 -->\n",
       "<g id=\"node6\" class=\"node\">\n",
       "<title>5</title>\n",
       "<ellipse fill=\"#60a6f6\" stroke=\"black\" cx=\"30\" cy=\"-234\" rx=\"27\" ry=\"18\"/>\n",
       "<text text-anchor=\"middle\" x=\"30\" y=\"-227.82\" font-family=\"Times,serif\" font-size=\"14.00\">X0</text>\n",
       "</g>\n",
       "<!-- 4&#45;&gt;5 -->\n",
       "<g id=\"edge8\" class=\"edge\">\n",
       "<title>4&#45;&gt;5</title>\n",
       "<path fill=\"none\" stroke=\"black\" d=\"M87.08,-290.5C77.14,-280.83 63.88,-267.94 52.65,-257.02\"/>\n",
       "<polygon fill=\"black\" stroke=\"black\" points=\"55.51,-254.95 45.9,-250.49 50.63,-259.97 55.51,-254.95\"/>\n",
       "</g>\n",
       "<!-- 6 -->\n",
       "<g id=\"node7\" class=\"node\">\n",
       "<title>6</title>\n",
       "<ellipse fill=\"#136ed4\" stroke=\"black\" cx=\"102\" cy=\"-234\" rx=\"27\" ry=\"18\"/>\n",
       "<text text-anchor=\"middle\" x=\"102\" y=\"-227.82\" font-family=\"Times,serif\" font-size=\"14.00\">add</text>\n",
       "</g>\n",
       "<!-- 4&#45;&gt;6 -->\n",
       "<g id=\"edge7\" class=\"edge\">\n",
       "<title>4&#45;&gt;6</title>\n",
       "<path fill=\"none\" stroke=\"black\" d=\"M102,-287.7C102,-280.24 102,-271.32 102,-262.97\"/>\n",
       "<polygon fill=\"black\" stroke=\"black\" points=\"105.5,-263.1 102,-253.1 98.5,-263.1 105.5,-263.1\"/>\n",
       "</g>\n",
       "<!-- 7 -->\n",
       "<g id=\"node8\" class=\"node\">\n",
       "<title>7</title>\n",
       "<ellipse fill=\"#136ed4\" stroke=\"black\" cx=\"63\" cy=\"-162\" rx=\"27\" ry=\"18\"/>\n",
       "<text text-anchor=\"middle\" x=\"63\" y=\"-155.82\" font-family=\"Times,serif\" font-size=\"14.00\">add</text>\n",
       "</g>\n",
       "<!-- 6&#45;&gt;7 -->\n",
       "<g id=\"edge6\" class=\"edge\">\n",
       "<title>6&#45;&gt;7</title>\n",
       "<path fill=\"none\" stroke=\"black\" d=\"M92.95,-216.76C88.28,-208.37 82.46,-197.93 77.2,-188.5\"/>\n",
       "<polygon fill=\"black\" stroke=\"black\" points=\"79.92,-187.18 72,-180.15 73.81,-190.59 79.92,-187.18\"/>\n",
       "</g>\n",
       "<!-- 12 -->\n",
       "<g id=\"node13\" class=\"node\">\n",
       "<title>12</title>\n",
       "<ellipse fill=\"#60a6f6\" stroke=\"black\" cx=\"141\" cy=\"-162\" rx=\"32.6\" ry=\"18\"/>\n",
       "<text text-anchor=\"middle\" x=\"141\" y=\"-155.82\" font-family=\"Times,serif\" font-size=\"14.00\">&#45;0.684</text>\n",
       "</g>\n",
       "<!-- 6&#45;&gt;12 -->\n",
       "<g id=\"edge5\" class=\"edge\">\n",
       "<title>6&#45;&gt;12</title>\n",
       "<path fill=\"none\" stroke=\"black\" d=\"M111.05,-216.76C115.61,-208.58 121.25,-198.45 126.41,-189.2\"/>\n",
       "<polygon fill=\"black\" stroke=\"black\" points=\"129.92,-191.07 131.73,-180.63 123.81,-187.67 129.92,-191.07\"/>\n",
       "</g>\n",
       "<!-- 8 -->\n",
       "<g id=\"node9\" class=\"node\">\n",
       "<title>8</title>\n",
       "<ellipse fill=\"#60a6f6\" stroke=\"black\" cx=\"27\" cy=\"-90\" rx=\"27\" ry=\"18\"/>\n",
       "<text text-anchor=\"middle\" x=\"27\" y=\"-83.83\" font-family=\"Times,serif\" font-size=\"14.00\">X0</text>\n",
       "</g>\n",
       "<!-- 7&#45;&gt;8 -->\n",
       "<g id=\"edge4\" class=\"edge\">\n",
       "<title>7&#45;&gt;8</title>\n",
       "<path fill=\"none\" stroke=\"black\" d=\"M54.65,-144.76C50.38,-136.46 45.08,-126.15 40.27,-116.79\"/>\n",
       "<polygon fill=\"black\" stroke=\"black\" points=\"42.99,-115.44 35.3,-108.15 36.77,-118.64 42.99,-115.44\"/>\n",
       "</g>\n",
       "<!-- 9 -->\n",
       "<g id=\"node10\" class=\"node\">\n",
       "<title>9</title>\n",
       "<ellipse fill=\"#136ed4\" stroke=\"black\" cx=\"99\" cy=\"-90\" rx=\"27\" ry=\"18\"/>\n",
       "<text text-anchor=\"middle\" x=\"99\" y=\"-83.83\" font-family=\"Times,serif\" font-size=\"14.00\">add</text>\n",
       "</g>\n",
       "<!-- 7&#45;&gt;9 -->\n",
       "<g id=\"edge3\" class=\"edge\">\n",
       "<title>7&#45;&gt;9</title>\n",
       "<path fill=\"none\" stroke=\"black\" d=\"M71.35,-144.76C75.62,-136.46 80.92,-126.15 85.73,-116.79\"/>\n",
       "<polygon fill=\"black\" stroke=\"black\" points=\"89.23,-118.64 90.7,-108.15 83.01,-115.44 89.23,-118.64\"/>\n",
       "</g>\n",
       "<!-- 10 -->\n",
       "<g id=\"node11\" class=\"node\">\n",
       "<title>10</title>\n",
       "<ellipse fill=\"#60a6f6\" stroke=\"black\" cx=\"60\" cy=\"-18\" rx=\"27\" ry=\"18\"/>\n",
       "<text text-anchor=\"middle\" x=\"60\" y=\"-11.82\" font-family=\"Times,serif\" font-size=\"14.00\">X0</text>\n",
       "</g>\n",
       "<!-- 9&#45;&gt;10 -->\n",
       "<g id=\"edge2\" class=\"edge\">\n",
       "<title>9&#45;&gt;10</title>\n",
       "<path fill=\"none\" stroke=\"black\" d=\"M89.95,-72.76C85.28,-64.37 79.46,-53.93 74.2,-44.5\"/>\n",
       "<polygon fill=\"black\" stroke=\"black\" points=\"76.92,-43.18 69,-36.15 70.81,-46.59 76.92,-43.18\"/>\n",
       "</g>\n",
       "<!-- 11 -->\n",
       "<g id=\"node12\" class=\"node\">\n",
       "<title>11</title>\n",
       "<ellipse fill=\"#60a6f6\" stroke=\"black\" cx=\"138\" cy=\"-18\" rx=\"32.6\" ry=\"18\"/>\n",
       "<text text-anchor=\"middle\" x=\"138\" y=\"-11.82\" font-family=\"Times,serif\" font-size=\"14.00\">&#45;0.684</text>\n",
       "</g>\n",
       "<!-- 9&#45;&gt;11 -->\n",
       "<g id=\"edge1\" class=\"edge\">\n",
       "<title>9&#45;&gt;11</title>\n",
       "<path fill=\"none\" stroke=\"black\" d=\"M108.05,-72.76C112.61,-64.58 118.25,-54.45 123.41,-45.2\"/>\n",
       "<polygon fill=\"black\" stroke=\"black\" points=\"126.92,-47.07 128.73,-36.63 120.81,-43.67 126.92,-47.07\"/>\n",
       "</g>\n",
       "<!-- 14 -->\n",
       "<g id=\"node15\" class=\"node\">\n",
       "<title>14</title>\n",
       "<ellipse fill=\"#60a6f6\" stroke=\"black\" cx=\"174\" cy=\"-234\" rx=\"27\" ry=\"18\"/>\n",
       "<text text-anchor=\"middle\" x=\"174\" y=\"-227.82\" font-family=\"Times,serif\" font-size=\"14.00\">X0</text>\n",
       "</g>\n",
       "<!-- 13&#45;&gt;14 -->\n",
       "<g id=\"edge10\" class=\"edge\">\n",
       "<title>13&#45;&gt;14</title>\n",
       "<path fill=\"none\" stroke=\"black\" d=\"M174,-287.7C174,-280.24 174,-271.32 174,-262.97\"/>\n",
       "<polygon fill=\"black\" stroke=\"black\" points=\"177.5,-263.1 174,-253.1 170.5,-263.1 177.5,-263.1\"/>\n",
       "</g>\n",
       "<!-- 15 -->\n",
       "<g id=\"node16\" class=\"node\">\n",
       "<title>15</title>\n",
       "<ellipse fill=\"#60a6f6\" stroke=\"black\" cx=\"252\" cy=\"-234\" rx=\"32.6\" ry=\"18\"/>\n",
       "<text text-anchor=\"middle\" x=\"252\" y=\"-227.82\" font-family=\"Times,serif\" font-size=\"14.00\">&#45;0.684</text>\n",
       "</g>\n",
       "<!-- 13&#45;&gt;15 -->\n",
       "<g id=\"edge9\" class=\"edge\">\n",
       "<title>13&#45;&gt;15</title>\n",
       "<path fill=\"none\" stroke=\"black\" d=\"M189.41,-291.17C200.23,-281.46 214.94,-268.26 227.37,-257.1\"/>\n",
       "<polygon fill=\"black\" stroke=\"black\" points=\"229.44,-260.05 234.54,-250.77 224.76,-254.84 229.44,-260.05\"/>\n",
       "</g>\n",
       "<!-- 17 -->\n",
       "<g id=\"node18\" class=\"node\">\n",
       "<title>17</title>\n",
       "<ellipse fill=\"#60a6f6\" stroke=\"black\" cx=\"228\" cy=\"-378\" rx=\"27\" ry=\"18\"/>\n",
       "<text text-anchor=\"middle\" x=\"228\" y=\"-371.82\" font-family=\"Times,serif\" font-size=\"14.00\">X0</text>\n",
       "</g>\n",
       "<!-- 16&#45;&gt;17 -->\n",
       "<g id=\"edge17\" class=\"edge\">\n",
       "<title>16&#45;&gt;17</title>\n",
       "<path fill=\"none\" stroke=\"black\" d=\"M228,-431.7C228,-424.24 228,-415.32 228,-406.97\"/>\n",
       "<polygon fill=\"black\" stroke=\"black\" points=\"231.5,-407.1 228,-397.1 224.5,-407.1 231.5,-407.1\"/>\n",
       "</g>\n",
       "<!-- 18 -->\n",
       "<g id=\"node19\" class=\"node\">\n",
       "<title>18</title>\n",
       "<ellipse fill=\"#136ed4\" stroke=\"black\" cx=\"300\" cy=\"-378\" rx=\"27\" ry=\"18\"/>\n",
       "<text text-anchor=\"middle\" x=\"300\" y=\"-371.82\" font-family=\"Times,serif\" font-size=\"14.00\">add</text>\n",
       "</g>\n",
       "<!-- 16&#45;&gt;18 -->\n",
       "<g id=\"edge16\" class=\"edge\">\n",
       "<title>16&#45;&gt;18</title>\n",
       "<path fill=\"none\" stroke=\"black\" d=\"M242.92,-434.5C252.86,-424.83 266.12,-411.94 277.35,-401.02\"/>\n",
       "<polygon fill=\"black\" stroke=\"black\" points=\"279.37,-403.97 284.1,-394.49 274.49,-398.95 279.37,-403.97\"/>\n",
       "</g>\n",
       "<!-- 19 -->\n",
       "<g id=\"node20\" class=\"node\">\n",
       "<title>19</title>\n",
       "<ellipse fill=\"#60a6f6\" stroke=\"black\" cx=\"282\" cy=\"-306\" rx=\"27\" ry=\"18\"/>\n",
       "<text text-anchor=\"middle\" x=\"282\" y=\"-299.82\" font-family=\"Times,serif\" font-size=\"14.00\">X0</text>\n",
       "</g>\n",
       "<!-- 18&#45;&gt;19 -->\n",
       "<g id=\"edge15\" class=\"edge\">\n",
       "<title>18&#45;&gt;19</title>\n",
       "<path fill=\"none\" stroke=\"black\" d=\"M295.64,-360.05C293.65,-352.32 291.25,-342.96 289.01,-334.27\"/>\n",
       "<polygon fill=\"black\" stroke=\"black\" points=\"292.2,-333.6 286.32,-324.79 285.42,-335.35 292.2,-333.6\"/>\n",
       "</g>\n",
       "<!-- 20 -->\n",
       "<g id=\"node21\" class=\"node\">\n",
       "<title>20</title>\n",
       "<ellipse fill=\"#60a6f6\" stroke=\"black\" cx=\"360\" cy=\"-306\" rx=\"32.6\" ry=\"18\"/>\n",
       "<text text-anchor=\"middle\" x=\"360\" y=\"-299.82\" font-family=\"Times,serif\" font-size=\"14.00\">&#45;0.684</text>\n",
       "</g>\n",
       "<!-- 18&#45;&gt;20 -->\n",
       "<g id=\"edge14\" class=\"edge\">\n",
       "<title>18&#45;&gt;20</title>\n",
       "<path fill=\"none\" stroke=\"black\" d=\"M313.02,-361.81C320.77,-352.76 330.79,-341.08 339.57,-330.83\"/>\n",
       "<polygon fill=\"black\" stroke=\"black\" points=\"342.74,-333.51 346.59,-323.64 337.43,-328.96 342.74,-333.51\"/>\n",
       "</g>\n",
       "</g>\n",
       "</svg>\n"
      ],
      "text/plain": [
       "<graphviz.sources.Source at 0x7f421c944f40>"
      ]
     },
     "execution_count": 30,
     "metadata": {},
     "output_type": "execute_result"
    }
   ],
   "source": [
    "#visual representation of suggested equation for the last-ran layer\n",
    "dot_data = model._program.export_graphviz()\n",
    "graph = graphviz.Source(dot_data)\n",
    "graph"
   ]
  },
  {
   "cell_type": "code",
   "execution_count": null,
   "id": "85c55153-1561-4423-be0d-a51e6b0e2c35",
   "metadata": {},
   "outputs": [],
   "source": []
  },
  {
   "cell_type": "code",
   "execution_count": null,
   "id": "28b335a7-e476-4ccd-96d8-de5f37ef93ed",
   "metadata": {},
   "outputs": [],
   "source": []
  },
  {
   "cell_type": "code",
   "execution_count": null,
   "id": "2f798bc7-36ce-4753-9446-03db356ed804",
   "metadata": {},
   "outputs": [],
   "source": []
  }
 ],
 "metadata": {
  "kernelspec": {
   "display_name": "Python 3 (ipykernel)",
   "language": "python",
   "name": "python3"
  },
  "language_info": {
   "codemirror_mode": {
    "name": "ipython",
    "version": 3
   },
   "file_extension": ".py",
   "mimetype": "text/x-python",
   "name": "python",
   "nbconvert_exporter": "python",
   "pygments_lexer": "ipython3",
   "version": "3.12.8"
  }
 },
 "nbformat": 4,
 "nbformat_minor": 5
}
